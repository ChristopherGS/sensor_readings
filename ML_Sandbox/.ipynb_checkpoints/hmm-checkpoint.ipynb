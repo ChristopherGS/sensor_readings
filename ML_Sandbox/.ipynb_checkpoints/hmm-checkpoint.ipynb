{
 "cells": [
  {
   "cell_type": "code",
   "execution_count": 1,
   "metadata": {
    "collapsed": true
   },
   "outputs": [],
   "source": [
    "# HMM smoother"
   ]
  },
  {
   "cell_type": "code",
   "execution_count": 2,
   "metadata": {
    "collapsed": true
   },
   "outputs": [],
   "source": [
    "import numpy as np\n",
    "import matplotlib.pyplot as plt\n",
    "from hmmlearn import hmm\n",
    "\n",
    "from wrangle_updated import prep_test, trial, prep\n",
    "from utilities import convert_to_words"
   ]
  },
  {
   "cell_type": "code",
   "execution_count": 3,
   "metadata": {
    "collapsed": false
   },
   "outputs": [
    {
     "name": "stderr",
     "output_type": "stream",
     "text": [
      "/Users/christophersamiullah/repos/sensor_readings/venv/lib/python2.7/site-packages/pandas/core/common.py:516: FutureWarning: elementwise comparison failed; returning scalar instead, but in the future will perform elementwise comparison\n",
      "  mask = arr == x\n"
     ]
    },
    {
     "name": "stdout",
     "output_type": "stream",
     "text": [
      "Removed 2 NaN rows\n",
      "['/Users/christophersamiullah/repos/sensor_readings/ML_Sandbox/data/your_mount_raw_data/GL_ymount_CS.csv', '/Users/christophersamiullah/repos/sensor_readings/ML_Sandbox/data/your_mount_raw_data/GL_ymount_UrsWearing.csv', '/Users/christophersamiullah/repos/sensor_readings/ML_Sandbox/data/your_mount_raw_data/ymount.csv', '/Users/christophersamiullah/repos/sensor_readings/ML_Sandbox/data/your_mount_raw_data/ymountUrs.csv', '/Users/christophersamiullah/repos/sensor_readings/ML_Sandbox/data/your_mount_raw_data/ymountUrs2.csv']\n",
      "['/Users/christophersamiullah/repos/sensor_readings/ML_Sandbox/data/your_side_control_raw_data/GL_ysc_UrsWearing.csv', '/Users/christophersamiullah/repos/sensor_readings/ML_Sandbox/data/your_side_control_raw_data/ysc1.csv', '/Users/christophersamiullah/repos/sensor_readings/ML_Sandbox/data/your_side_control_raw_data/ysc2.csv', '/Users/christophersamiullah/repos/sensor_readings/ML_Sandbox/data/your_side_control_raw_data/yscUrs.csv']\n",
      "['/Users/christophersamiullah/repos/sensor_readings/ML_Sandbox/data/your_closed_guard_raw_data/GL_ycg_UrsWearing.csv', '/Users/christophersamiullah/repos/sensor_readings/ML_Sandbox/data/your_closed_guard_raw_data/ycg.csv', '/Users/christophersamiullah/repos/sensor_readings/ML_Sandbox/data/your_closed_guard_raw_data/ycg2Urs.csv', '/Users/christophersamiullah/repos/sensor_readings/ML_Sandbox/data/your_closed_guard_raw_data/ycgUrs.csv']\n",
      "['/Users/christophersamiullah/repos/sensor_readings/ML_Sandbox/data/your_back_control_raw_data/GL_ybc_UrsWearing.csv', '/Users/christophersamiullah/repos/sensor_readings/ML_Sandbox/data/your_back_control_raw_data/ybc.csv', '/Users/christophersamiullah/repos/sensor_readings/ML_Sandbox/data/your_back_control_raw_data/ybcUrs.csv']\n",
      "['/Users/christophersamiullah/repos/sensor_readings/ML_Sandbox/data/opponent_mount_and_opponent_side_control_raw_data/GL_omount_UrsWearing.csv', '/Users/christophersamiullah/repos/sensor_readings/ML_Sandbox/data/opponent_mount_and_opponent_side_control_raw_data/GL_osc_UrsWearing.csv', '/Users/christophersamiullah/repos/sensor_readings/ML_Sandbox/data/opponent_mount_and_opponent_side_control_raw_data/omount1.csv', '/Users/christophersamiullah/repos/sensor_readings/ML_Sandbox/data/opponent_mount_and_opponent_side_control_raw_data/omount2.csv', '/Users/christophersamiullah/repos/sensor_readings/ML_Sandbox/data/opponent_mount_and_opponent_side_control_raw_data/omountUrs.csv', '/Users/christophersamiullah/repos/sensor_readings/ML_Sandbox/data/opponent_mount_and_opponent_side_control_raw_data/osc.csv', '/Users/christophersamiullah/repos/sensor_readings/ML_Sandbox/data/opponent_mount_and_opponent_side_control_raw_data/oscUrs_100.csv']\n",
      "['/Users/christophersamiullah/repos/sensor_readings/ML_Sandbox/data/opponent_closed_guard_raw_data/GL_ocg_CS.csv', '/Users/christophersamiullah/repos/sensor_readings/ML_Sandbox/data/opponent_closed_guard_raw_data/GL_ocg_UrsWearing.csv', '/Users/christophersamiullah/repos/sensor_readings/ML_Sandbox/data/opponent_closed_guard_raw_data/GL_standupfromocgx4_2_CS.csv', '/Users/christophersamiullah/repos/sensor_readings/ML_Sandbox/data/opponent_closed_guard_raw_data/ocg.csv', '/Users/christophersamiullah/repos/sensor_readings/ML_Sandbox/data/opponent_closed_guard_raw_data/ocgUrs.csv', '/Users/christophersamiullah/repos/sensor_readings/ML_Sandbox/data/opponent_closed_guard_raw_data/ocgUrs2_complete.csv']\n",
      "['/Users/christophersamiullah/repos/sensor_readings/ML_Sandbox/data/opponent_back_control_raw_data/GL_obc_UrsWearing.csv', '/Users/christophersamiullah/repos/sensor_readings/ML_Sandbox/data/opponent_back_control_raw_data/obc.csv', '/Users/christophersamiullah/repos/sensor_readings/ML_Sandbox/data/opponent_back_control_raw_data/obcUrs.csv']\n",
      "['/Users/christophersamiullah/repos/sensor_readings/ML_Sandbox/data/non_jj_raw_data/generalMotionUrs.csv', '/Users/christophersamiullah/repos/sensor_readings/ML_Sandbox/data/non_jj_raw_data/GL_general1_CS.csv', '/Users/christophersamiullah/repos/sensor_readings/ML_Sandbox/data/non_jj_raw_data/GL_general2_CS.csv', '/Users/christophersamiullah/repos/sensor_readings/ML_Sandbox/data/non_jj_raw_data/GL_general_flat_sensor.csv', '/Users/christophersamiullah/repos/sensor_readings/ML_Sandbox/data/non_jj_raw_data/GL_general_UrsWearing.csv', '/Users/christophersamiullah/repos/sensor_readings/ML_Sandbox/data/non_jj_raw_data/train_lying.csv', '/Users/christophersamiullah/repos/sensor_readings/ML_Sandbox/data/non_jj_raw_data/train_sitting.csv', '/Users/christophersamiullah/repos/sensor_readings/ML_Sandbox/data/non_jj_raw_data/train_standing.csv']\n",
      "Removed 59 NaN rows\n",
      "   index  ACCEL_X   ACCEL_Y  ACCEL_Z    GYRO_X    GYRO_Y  GYRO_Z  rolling_median_x  rolling_median_y  rolling_median_z  ...      std_gx   std_gy    std_gz  diff_x    diff_y    diff_z  diff_gx  diff_gy   diff_gz  state\n",
      "0      0  -0.9562 -0.138667   0.3459  1.638267 -3.331367  2.6343            -0.959         -0.144333             0.343  ...    3.825866  3.18329  1.504622  -0.031 -0.082667 -0.086333  -16.768  -13.536 -5.874333      0\n",
      "\n",
      "[1 rows x 29 columns]\n",
      "   ACCEL_X  ACCEL_Y   ACCEL_Z  GYRO_X  GYRO_Y  GYRO_Z  rolling_median_x  rolling_median_y  rolling_median_z  rolling_max_x    ...        std_z   std_gx    std_gy    std_gz  diff_x  diff_y  diff_z  diff_gx  diff_gy   diff_gz\n",
      "0  -0.9732  -0.2798  0.169633  0.5204  0.1606  0.6444         -0.975167         -0.279167          0.165333         -0.964    ...     0.013456  0.71578  3.435847  0.593049  -0.016  -0.013  -0.041   -2.866  -12.907 -2.276333\n",
      "\n",
      "[1 rows x 27 columns]\n"
     ]
    }
   ],
   "source": [
    "test_data1 = prep_test('test1_ymount_ycg.csv')\n",
    "training_data = prep()\n",
    "\n",
    "print training_data[0:1]\n",
    "print test_data1[0:1]\n"
   ]
  },
  {
   "cell_type": "code",
   "execution_count": 4,
   "metadata": {
    "collapsed": false
   },
   "outputs": [
    {
     "name": "stdout",
     "output_type": "stream",
     "text": [
      "[7 7 0 5 0 5 5 5 0 5 5 5 7 5 5 7 5 0 6 4 2 2 2 2 2 2 2 2 4 2 2 2 2 2 2 4 4\n",
      " 4 4 4 4]\n",
      "['OTHER', 'OTHER', 'your_mount', 'opponent_closed_guard', 'your_mount', 'opponent_closed_guard', 'opponent_closed_guard', 'opponent_closed_guard', 'your_mount', 'opponent_closed_guard', 'opponent_closed_guard', 'opponent_closed_guard', 'OTHER', 'opponent_closed_guard', 'opponent_closed_guard', 'OTHER', 'opponent_closed_guard', 'your_mount', 'opponent_back_control', 'opponent_mount_or_sc', 'your_closed_guard', 'your_closed_guard', 'your_closed_guard', 'your_closed_guard', 'your_closed_guard', 'your_closed_guard', 'your_closed_guard', 'your_closed_guard', 'opponent_mount_or_sc', 'your_closed_guard', 'your_closed_guard', 'your_closed_guard', 'your_closed_guard', 'your_closed_guard', 'your_closed_guard', 'opponent_mount_or_sc', 'opponent_mount_or_sc', 'opponent_mount_or_sc', 'opponent_mount_or_sc', 'opponent_mount_or_sc', 'opponent_mount_or_sc']\n",
      "Your Mount: 0.0975609756098\n",
      "Your Side Control: 0.0\n",
      "Your Closed Guard: 0.341463414634\n",
      "Your Back Control: 0.0\n",
      "Opponent Mount or Opponent Side Control: 0.19512195122\n",
      "Opponent Closed Guard: 0.243902439024\n",
      "Opponent Back Control: 0.0243902439024\n",
      "OTHER: 0.0975609756098\n",
      "\n"
     ]
    }
   ],
   "source": [
    "pre_smooth = trial(training_data, test_data1)"
   ]
  },
  {
   "cell_type": "code",
   "execution_count": 5,
   "metadata": {
    "collapsed": false
   },
   "outputs": [
    {
     "name": "stdout",
     "output_type": "stream",
     "text": [
      "[7 7 0 5 0 5 5 5 0 5 5 5 7 5 5 7 5 0 6 4 2 2 2 2 2 2 2 2 4 2 2 2 2 2 2 4 4\n",
      " 4 4 4 4]\n",
      "['OTHER', 'OTHER', 'your_mount', 'opponent_closed_guard', 'your_mount', 'opponent_closed_guard', 'opponent_closed_guard', 'opponent_closed_guard', 'your_mount', 'opponent_closed_guard', 'opponent_closed_guard', 'opponent_closed_guard', 'OTHER', 'opponent_closed_guard', 'opponent_closed_guard', 'OTHER', 'opponent_closed_guard', 'your_mount', 'opponent_back_control', 'opponent_mount_or_sc', 'your_closed_guard', 'your_closed_guard', 'your_closed_guard', 'your_closed_guard', 'your_closed_guard', 'your_closed_guard', 'your_closed_guard', 'your_closed_guard', 'opponent_mount_or_sc', 'your_closed_guard', 'your_closed_guard', 'your_closed_guard', 'your_closed_guard', 'your_closed_guard', 'your_closed_guard', 'opponent_mount_or_sc', 'opponent_mount_or_sc', 'opponent_mount_or_sc', 'opponent_mount_or_sc', 'opponent_mount_or_sc', 'opponent_mount_or_sc']\n"
     ]
    }
   ],
   "source": [
    "print pre_smooth\n",
    "pre_smooth_words = convert_to_words(pre_smooth)\n",
    "print pre_smooth_words"
   ]
  },
  {
   "cell_type": "code",
   "execution_count": 6,
   "metadata": {
    "collapsed": false
   },
   "outputs": [],
   "source": [
    "n_components = 8 # ('ybc', 'ymount', 'ysc', 'ycg', 'ocg', 'osc_mount', 'obc', 'other')\n",
    "# n_components = 3\n",
    "startprob = np.array([0.05, 0.05, 0.05, 0.05, 0.05, 0.05, 0.05, 0.65,]) # users will probably turn on sensor standing\n",
    "# startprob = np.array([0.34, 0.33, 0.33])"
   ]
  },
  {
   "cell_type": "code",
   "execution_count": 7,
   "metadata": {
    "collapsed": true
   },
   "outputs": [],
   "source": [
    "# transmat = np.array([[0.34, 0.33, 0.33], [0.9, 0.05, 0.05], [0.9, 0.05, 0.05]])\n",
    "\n",
    "\"\"\"\n",
    "probability of these positions given current state:\n",
    "\n",
    "your_mount' if v == 1 \n",
    "else 'your_side_control' if v == 2\n",
    "else 'your_closed_guard' if v == 3\n",
    "else 'your_back_control' if v == 4\n",
    "else 'opponent_mount_or_sc' if v == 5\n",
    "else 'opponent_closed_guard' if v == 6\n",
    "else 'opponent_back_control' if v == 7\n",
    "else 'OTHER' if v == 8\n",
    "\n",
    "transition_probability = {\n",
    "        'ymt' : {'ymount': 0.800, 'ysc': 0.050, 'ycg': 0.010, 'ybc': 0.050, 'osc_mount': 0.001, 'ocg': 0.050, 'obc': 0.001, 'other': 0.038},\n",
    "        'ysc' : {'ymount': 0.100, 'ysc': 0.800, 'ycg': 0.010, 'ybc': 0.010, 'osc_mount': 0.001, 'ocg': 0.050, 'obc': 0.001, 'other': 0.028},\n",
    "        'ycg' : {'ymount': 0.010, 'ysc': 0.050, 'ycg': 0.800, 'ybc': 0.010, 'osc_mount': 0.050, 'ocg': 0.001, 'obc': 0.001, 'other': 0.078},\n",
    "        'ybc' : {'ymount': 0.050, 'ysc': 0.010, 'ycg': 0.050, 'ybc': 0.800, 'osc_mount': 0.001, 'ocg': 0.010, 'obc': 0.001, 'other': 0.078},\n",
    "        'omt' : {'ymount': 0.001, 'ysc': 0.050, 'ycg': 0.010, 'ybc': 0.050, 'osc_mount': 0.800, 'ocg': 0.050, 'obc': 0.001, 'other': 0.038},\n",
    "        'ocg' : {'ymount': 0.100, 'ysc': 0.050, 'ycg': 0.010, 'ybc': 0.010, 'osc_mount': 0.001, 'ocg': 0.800, 'obc': 0.001, 'other': 0.028},\n",
    "        'obc' : {'ymount': 0.010, 'ysc': 0.050, 'ycg': 0.001, 'ybc': 0.010, 'osc_mount': 0.050, 'ocg': 0.001, 'obc': 0.800, 'other': 0.078},\n",
    "        'oth' : {'ymount': 0.050, 'ysc': 0.010, 'ycg': 0.050, 'ybc': 0.078, 'osc_mount': 0.001, 'ocg': 0.010, 'obc': 0.001, 'other': 0.800}\n",
    "     }\n",
    "\"\"\"\n",
    "\n",
    "transmat = np.array([\n",
    "                    [0.800, 0.050, 0.010, 0.050, 0.001, 0.050, 0.001, 0.038], \n",
    "                    [0.100, 0.800, 0.010, 0.010, 0.001, 0.050, 0.001, 0.028], \n",
    "                    [0.010, 0.050, 0.800, 0.010, 0.050, 0.001, 0.001, 0.078], \n",
    "                    [0.050, 0.010, 0.050, 0.800, 0.001, 0.010, 0.001, 0.078],\n",
    "                    [0.001, 0.050, 0.010, 0.050, 0.800, 0.050, 0.001, 0.038],\n",
    "                    [0.100, 0.050, 0.010, 0.010, 0.001, 0.800, 0.001, 0.028],\n",
    "                    [0.010, 0.050, 0.001, 0.010, 0.050, 0.001, 0.800, 0.078],\n",
    "                    [0.050, 0.010, 0.050, 0.078, 0.001, 0.010, 0.001, 0.800],\n",
    "                    ])"
   ]
  },
  {
   "cell_type": "code",
   "execution_count": 8,
   "metadata": {
    "collapsed": true
   },
   "outputs": [],
   "source": [
    "# emissionprob = np.array([[0.34, 0.33, 0.33], [0.4, 0.55, 0.05], [0.05, 0.55, 0.4]])\n",
    "\n",
    "\"\"\"\n",
    "emission_probability = {\n",
    "     'ybc' : {'ybc': 0.4, 'ymount': 0, 'ysc': 0, 'ycg': 0, 'ocg': 0, 'osc_mount': 0, 'obc': 0.4, 'other': 0.2},\n",
    "     'ymount' : {'ybc': 0.05, 'ymount': 0.8, 'ysc': 0.05, 'ycg': 0.01, 'ocg': 0.05, 'osc_mount': 0.001, 'obc': 0.001, 'other': 0.048},\n",
    "     'ysc' : {'ybc': 0.01, 'ymount': 0.1, 'ysc': 0.8, 'ycg': 0.01, 'ocg': 0.05, 'osc_mount': 0.001, 'obc': 0.001, 'other': 0.028},\n",
    "     'ycg' : {'ybc': 0.01, 'ymount': 0.01, 'ysc': 0.05, 'ycg': 0.8, 'ocg': 0.001, 'osc_mount': 0.05, 'obc': 0.001, 'other': 0.078},\n",
    "     'ocg' : {'ybc': 0.001, 'ymount': 0.01, 'ysc': 0.05, 'ycg': 0.001, 'ocg': 0.8, 'osc_mount': 0.05, 'obc': 0.01, 'other': 0.078},\n",
    "     }\n",
    "\"\"\"\n",
    "\n",
    "emissionprob = np.array([\n",
    "                        [0.4, 0, 0, 0, 0, 0, 0.4, 0.2], # correct \n",
    "                        [0.4, 0, 0, 0, 0, 0, 0.4, 0.2], # nonsense (same for rest)\n",
    "                        [0.4, 0, 0, 0, 0, 0, 0.4, 0.2], \n",
    "                        [0.4, 0, 0, 0, 0, 0, 0.4, 0.2],\n",
    "                        [0.4, 0, 0, 0, 0, 0, 0.4, 0.2],\n",
    "                        [0.4, 0, 0, 0, 0, 0, 0.4, 0.2],\n",
    "                        [0.4, 0, 0, 0, 0, 0, 0.4, 0.2],\n",
    "                        [0.4, 0, 0, 0, 0, 0, 0.4, 0.2]\n",
    "                        ])\n"
   ]
  },
  {
   "cell_type": "code",
   "execution_count": 9,
   "metadata": {
    "collapsed": false
   },
   "outputs": [],
   "source": [
    "# Hidden Markov Model with multinomial (discrete) emissions\n",
    "model = hmm.MultinomialHMM(n_components=n_components,\n",
    "                           n_iter=10,\n",
    "                           verbose=False)\n",
    "\n",
    "model.startprob_ = startprob\n",
    "model.transmat_ = transmat\n",
    "model.emissionprob_ = emissionprob\n",
    "# model.n_features = 8"
   ]
  },
  {
   "cell_type": "code",
   "execution_count": 10,
   "metadata": {
    "collapsed": false
   },
   "outputs": [
    {
     "name": "stdout",
     "output_type": "stream",
     "text": [
      "[[6]\n",
      " [0]\n",
      " [6]\n",
      " [6]\n",
      " [6]] [7 1 1 4 1]\n",
      "==========\n",
      "[[7]\n",
      " [7]\n",
      " [0]\n",
      " [5]\n",
      " [0]\n",
      " [5]\n",
      " [5]\n",
      " [5]\n",
      " [0]\n",
      " [5]\n",
      " [5]\n",
      " [5]\n",
      " [7]\n",
      " [5]\n",
      " [5]\n",
      " [7]\n",
      " [5]\n",
      " [0]\n",
      " [6]\n",
      " [4]\n",
      " [2]\n",
      " [2]\n",
      " [2]\n",
      " [2]\n",
      " [2]\n",
      " [2]\n",
      " [2]\n",
      " [2]\n",
      " [4]\n",
      " [2]\n",
      " [2]\n",
      " [2]\n",
      " [2]\n",
      " [2]\n",
      " [2]\n",
      " [4]\n",
      " [4]\n",
      " [4]\n",
      " [4]\n",
      " [4]\n",
      " [4]]\n"
     ]
    }
   ],
   "source": [
    "# observations = np.array([1, 1, 2, 2, 1, 0, 1, 2, 2, 0])\n",
    "observations = np.array(pre_smooth)\n",
    "a,b = model.sample(5)\n",
    "print a,b\n",
    "print '=========='\n",
    "\n",
    "n_samples = len(observations)\n",
    "data = observations.reshape((n_samples, -1))\n",
    "print data"
   ]
  },
  {
   "cell_type": "code",
   "execution_count": 15,
   "metadata": {
    "collapsed": false
   },
   "outputs": [
    {
     "name": "stdout",
     "output_type": "stream",
     "text": [
      "(-inf, array([0, 0, 0, 0, 0, 0, 0, 0, 0, 0, 0, 0, 0, 0, 0, 0, 0, 0, 0, 0, 0, 0, 0,\n",
      "       0, 0, 0, 0, 0, 0, 0, 0, 0, 0, 0, 0, 0, 0, 0, 0, 0, 0]))\n",
      "['your_mount', 'your_mount', 'your_mount', 'your_mount', 'your_mount', 'your_mount', 'your_mount', 'your_mount', 'your_mount', 'your_mount', 'your_mount', 'your_mount', 'your_mount', 'your_mount', 'your_mount', 'your_mount', 'your_mount', 'your_mount', 'your_mount', 'your_mount', 'your_mount', 'your_mount', 'your_mount', 'your_mount', 'your_mount', 'your_mount', 'your_mount', 'your_mount', 'your_mount', 'your_mount', 'your_mount', 'your_mount', 'your_mount', 'your_mount', 'your_mount', 'your_mount', 'your_mount', 'your_mount', 'your_mount', 'your_mount', 'your_mount']\n"
     ]
    }
   ],
   "source": [
    "# decode(X, lengths=None, algorithm=None)[source]\n",
    "# Find most likely state sequence corresponding to X.\n",
    "# Will work best for organic tests\n",
    "\n",
    "result = model.decode(data, algorithm='viterbi')\n",
    "print result\n",
    "result_words = convert_to_words(result[1])\n",
    "print result_words"
   ]
  },
  {
   "cell_type": "code",
   "execution_count": null,
   "metadata": {
    "collapsed": true
   },
   "outputs": [],
   "source": []
  },
  {
   "cell_type": "code",
   "execution_count": null,
   "metadata": {
    "collapsed": true
   },
   "outputs": [],
   "source": []
  }
 ],
 "metadata": {
  "kernelspec": {
   "display_name": "Python 2",
   "language": "python",
   "name": "python2"
  },
  "language_info": {
   "codemirror_mode": {
    "name": "ipython",
    "version": 2
   },
   "file_extension": ".py",
   "mimetype": "text/x-python",
   "name": "python",
   "nbconvert_exporter": "python",
   "pygments_lexer": "ipython2",
   "version": "2.7.6"
  }
 },
 "nbformat": 4,
 "nbformat_minor": 0
}
