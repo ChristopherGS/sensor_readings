{
 "cells": [
  {
   "cell_type": "code",
   "execution_count": 1,
   "metadata": {
    "collapsed": true
   },
   "outputs": [],
   "source": [
    "# HMM smoother"
   ]
  },
  {
   "cell_type": "code",
   "execution_count": 2,
   "metadata": {
    "collapsed": true
   },
   "outputs": [],
   "source": [
    "import numpy as np\n",
    "import pandas as pd\n",
    "import matplotlib.pyplot as plt\n",
    "from hmmlearn import hmm\n",
    "\n",
    "from wrangle_updated import prep_test, trial, prep, combine_setState_createFeatures\n",
    "from utilities import convert_to_words, get_position_stats"
   ]
  },
  {
   "cell_type": "code",
   "execution_count": 3,
   "metadata": {
    "collapsed": false
   },
   "outputs": [
    {
     "name": "stdout",
     "output_type": "stream",
     "text": [
      "['/Users/christophersamiullah/repos/sensor_readings/ML_Sandbox/data/your_mount_raw_data/GL_ymount_CS.csv', '/Users/christophersamiullah/repos/sensor_readings/ML_Sandbox/data/your_mount_raw_data/GL_ymount_UrsWearing.csv', '/Users/christophersamiullah/repos/sensor_readings/ML_Sandbox/data/your_mount_raw_data/ymount.csv', '/Users/christophersamiullah/repos/sensor_readings/ML_Sandbox/data/your_mount_raw_data/ymountUrs.csv', '/Users/christophersamiullah/repos/sensor_readings/ML_Sandbox/data/your_mount_raw_data/ymountUrs2.csv']\n"
     ]
    },
    {
     "name": "stderr",
     "output_type": "stream",
     "text": [
      "/Users/christophersamiullah/repos/sensor_readings/venv/lib/python2.7/site-packages/pandas/core/common.py:516: FutureWarning: elementwise comparison failed; returning scalar instead, but in the future will perform elementwise comparison\n",
      "  mask = arr == x\n"
     ]
    },
    {
     "name": "stdout",
     "output_type": "stream",
     "text": [
      "['/Users/christophersamiullah/repos/sensor_readings/ML_Sandbox/data/your_side_control_raw_data/GL_ysc_UrsWearing.csv', '/Users/christophersamiullah/repos/sensor_readings/ML_Sandbox/data/your_side_control_raw_data/ysc1.csv', '/Users/christophersamiullah/repos/sensor_readings/ML_Sandbox/data/your_side_control_raw_data/ysc2.csv', '/Users/christophersamiullah/repos/sensor_readings/ML_Sandbox/data/your_side_control_raw_data/yscUrs.csv']\n",
      "['/Users/christophersamiullah/repos/sensor_readings/ML_Sandbox/data/your_closed_guard_raw_data/GL_ycg_UrsWearing.csv', '/Users/christophersamiullah/repos/sensor_readings/ML_Sandbox/data/your_closed_guard_raw_data/ycg.csv', '/Users/christophersamiullah/repos/sensor_readings/ML_Sandbox/data/your_closed_guard_raw_data/ycg2Urs.csv', '/Users/christophersamiullah/repos/sensor_readings/ML_Sandbox/data/your_closed_guard_raw_data/ycgUrs.csv']\n",
      "['/Users/christophersamiullah/repos/sensor_readings/ML_Sandbox/data/your_back_control_raw_data/GL_ybc_UrsWearing.csv', '/Users/christophersamiullah/repos/sensor_readings/ML_Sandbox/data/your_back_control_raw_data/ybc.csv', '/Users/christophersamiullah/repos/sensor_readings/ML_Sandbox/data/your_back_control_raw_data/ybcUrs.csv']\n",
      "['/Users/christophersamiullah/repos/sensor_readings/ML_Sandbox/data/opponent_mount_and_opponent_side_control_raw_data/GL_omount_UrsWearing.csv', '/Users/christophersamiullah/repos/sensor_readings/ML_Sandbox/data/opponent_mount_and_opponent_side_control_raw_data/GL_osc_UrsWearing.csv', '/Users/christophersamiullah/repos/sensor_readings/ML_Sandbox/data/opponent_mount_and_opponent_side_control_raw_data/omount1.csv', '/Users/christophersamiullah/repos/sensor_readings/ML_Sandbox/data/opponent_mount_and_opponent_side_control_raw_data/omount2.csv', '/Users/christophersamiullah/repos/sensor_readings/ML_Sandbox/data/opponent_mount_and_opponent_side_control_raw_data/omountUrs.csv', '/Users/christophersamiullah/repos/sensor_readings/ML_Sandbox/data/opponent_mount_and_opponent_side_control_raw_data/osc.csv', '/Users/christophersamiullah/repos/sensor_readings/ML_Sandbox/data/opponent_mount_and_opponent_side_control_raw_data/oscUrs_100.csv']\n",
      "['/Users/christophersamiullah/repos/sensor_readings/ML_Sandbox/data/opponent_closed_guard_raw_data/GL_ocg_CS.csv', '/Users/christophersamiullah/repos/sensor_readings/ML_Sandbox/data/opponent_closed_guard_raw_data/GL_ocg_UrsWearing.csv', '/Users/christophersamiullah/repos/sensor_readings/ML_Sandbox/data/opponent_closed_guard_raw_data/GL_standupfromocgx4_2_CS.csv', '/Users/christophersamiullah/repos/sensor_readings/ML_Sandbox/data/opponent_closed_guard_raw_data/ocg.csv', '/Users/christophersamiullah/repos/sensor_readings/ML_Sandbox/data/opponent_closed_guard_raw_data/ocgUrs.csv', '/Users/christophersamiullah/repos/sensor_readings/ML_Sandbox/data/opponent_closed_guard_raw_data/ocgUrs2_complete.csv']\n",
      "['/Users/christophersamiullah/repos/sensor_readings/ML_Sandbox/data/opponent_back_control_raw_data/GL_obc_UrsWearing.csv', '/Users/christophersamiullah/repos/sensor_readings/ML_Sandbox/data/opponent_back_control_raw_data/obc.csv', '/Users/christophersamiullah/repos/sensor_readings/ML_Sandbox/data/opponent_back_control_raw_data/obcUrs.csv']\n",
      "['/Users/christophersamiullah/repos/sensor_readings/ML_Sandbox/data/non_jj_raw_data/generalMotionUrs.csv', '/Users/christophersamiullah/repos/sensor_readings/ML_Sandbox/data/non_jj_raw_data/GL_general1_CS.csv', '/Users/christophersamiullah/repos/sensor_readings/ML_Sandbox/data/non_jj_raw_data/GL_general2_CS.csv', '/Users/christophersamiullah/repos/sensor_readings/ML_Sandbox/data/non_jj_raw_data/GL_general_flat_sensor.csv', '/Users/christophersamiullah/repos/sensor_readings/ML_Sandbox/data/non_jj_raw_data/GL_general_UrsWearing.csv', '/Users/christophersamiullah/repos/sensor_readings/ML_Sandbox/data/non_jj_raw_data/train_lying.csv', '/Users/christophersamiullah/repos/sensor_readings/ML_Sandbox/data/non_jj_raw_data/train_sitting.csv', '/Users/christophersamiullah/repos/sensor_readings/ML_Sandbox/data/non_jj_raw_data/train_standing.csv']\n",
      "Removed 59 NaN rows\n"
     ]
    }
   ],
   "source": [
    "training_data = prep()"
   ]
  },
  {
   "cell_type": "code",
   "execution_count": 4,
   "metadata": {
    "collapsed": false
   },
   "outputs": [
    {
     "name": "stdout",
     "output_type": "stream",
     "text": [
      "['/Users/christophersamiullah/repos/sensor_readings/ML_Sandbox/data/your_mount_raw_data/GL_ymount_CS.csv', '/Users/christophersamiullah/repos/sensor_readings/ML_Sandbox/data/your_mount_raw_data/GL_ymount_UrsWearing.csv', '/Users/christophersamiullah/repos/sensor_readings/ML_Sandbox/data/your_mount_raw_data/ymount.csv', '/Users/christophersamiullah/repos/sensor_readings/ML_Sandbox/data/your_mount_raw_data/ymountUrs.csv', '/Users/christophersamiullah/repos/sensor_readings/ML_Sandbox/data/your_mount_raw_data/ymountUrs2.csv']\n",
      "['/Users/christophersamiullah/repos/sensor_readings/ML_Sandbox/data/your_side_control_raw_data/GL_ysc_UrsWearing.csv', '/Users/christophersamiullah/repos/sensor_readings/ML_Sandbox/data/your_side_control_raw_data/ysc1.csv', '/Users/christophersamiullah/repos/sensor_readings/ML_Sandbox/data/your_side_control_raw_data/ysc2.csv', '/Users/christophersamiullah/repos/sensor_readings/ML_Sandbox/data/your_side_control_raw_data/yscUrs.csv']\n",
      "['/Users/christophersamiullah/repos/sensor_readings/ML_Sandbox/data/your_closed_guard_raw_data/GL_ycg_UrsWearing.csv', '/Users/christophersamiullah/repos/sensor_readings/ML_Sandbox/data/your_closed_guard_raw_data/ycg.csv', '/Users/christophersamiullah/repos/sensor_readings/ML_Sandbox/data/your_closed_guard_raw_data/ycg2Urs.csv', '/Users/christophersamiullah/repos/sensor_readings/ML_Sandbox/data/your_closed_guard_raw_data/ycgUrs.csv']\n",
      "['/Users/christophersamiullah/repos/sensor_readings/ML_Sandbox/data/your_back_control_raw_data/GL_ybc_UrsWearing.csv', '/Users/christophersamiullah/repos/sensor_readings/ML_Sandbox/data/your_back_control_raw_data/ybc.csv', '/Users/christophersamiullah/repos/sensor_readings/ML_Sandbox/data/your_back_control_raw_data/ybcUrs.csv']\n",
      "['/Users/christophersamiullah/repos/sensor_readings/ML_Sandbox/data/opponent_mount_and_opponent_side_control_raw_data/GL_omount_UrsWearing.csv', '/Users/christophersamiullah/repos/sensor_readings/ML_Sandbox/data/opponent_mount_and_opponent_side_control_raw_data/GL_osc_UrsWearing.csv', '/Users/christophersamiullah/repos/sensor_readings/ML_Sandbox/data/opponent_mount_and_opponent_side_control_raw_data/omount1.csv', '/Users/christophersamiullah/repos/sensor_readings/ML_Sandbox/data/opponent_mount_and_opponent_side_control_raw_data/omount2.csv', '/Users/christophersamiullah/repos/sensor_readings/ML_Sandbox/data/opponent_mount_and_opponent_side_control_raw_data/omountUrs.csv', '/Users/christophersamiullah/repos/sensor_readings/ML_Sandbox/data/opponent_mount_and_opponent_side_control_raw_data/osc.csv', '/Users/christophersamiullah/repos/sensor_readings/ML_Sandbox/data/opponent_mount_and_opponent_side_control_raw_data/oscUrs_100.csv']\n",
      "['/Users/christophersamiullah/repos/sensor_readings/ML_Sandbox/data/opponent_closed_guard_raw_data/GL_ocg_CS.csv', '/Users/christophersamiullah/repos/sensor_readings/ML_Sandbox/data/opponent_closed_guard_raw_data/GL_ocg_UrsWearing.csv', '/Users/christophersamiullah/repos/sensor_readings/ML_Sandbox/data/opponent_closed_guard_raw_data/GL_standupfromocgx4_2_CS.csv', '/Users/christophersamiullah/repos/sensor_readings/ML_Sandbox/data/opponent_closed_guard_raw_data/ocg.csv', '/Users/christophersamiullah/repos/sensor_readings/ML_Sandbox/data/opponent_closed_guard_raw_data/ocgUrs.csv', '/Users/christophersamiullah/repos/sensor_readings/ML_Sandbox/data/opponent_closed_guard_raw_data/ocgUrs2_complete.csv']\n",
      "['/Users/christophersamiullah/repos/sensor_readings/ML_Sandbox/data/opponent_back_control_raw_data/GL_obc_UrsWearing.csv', '/Users/christophersamiullah/repos/sensor_readings/ML_Sandbox/data/opponent_back_control_raw_data/obc.csv', '/Users/christophersamiullah/repos/sensor_readings/ML_Sandbox/data/opponent_back_control_raw_data/obcUrs.csv']\n",
      "['/Users/christophersamiullah/repos/sensor_readings/ML_Sandbox/data/non_jj_raw_data/generalMotionUrs.csv', '/Users/christophersamiullah/repos/sensor_readings/ML_Sandbox/data/non_jj_raw_data/GL_general1_CS.csv', '/Users/christophersamiullah/repos/sensor_readings/ML_Sandbox/data/non_jj_raw_data/GL_general2_CS.csv', '/Users/christophersamiullah/repos/sensor_readings/ML_Sandbox/data/non_jj_raw_data/GL_general_flat_sensor.csv', '/Users/christophersamiullah/repos/sensor_readings/ML_Sandbox/data/non_jj_raw_data/GL_general_UrsWearing.csv', '/Users/christophersamiullah/repos/sensor_readings/ML_Sandbox/data/non_jj_raw_data/train_lying.csv', '/Users/christophersamiullah/repos/sensor_readings/ML_Sandbox/data/non_jj_raw_data/train_sitting.csv', '/Users/christophersamiullah/repos/sensor_readings/ML_Sandbox/data/non_jj_raw_data/train_standing.csv']\n"
     ]
    }
   ],
   "source": [
    "#1 Your mount\n",
    "ymount_td = combine_setState_createFeatures('your_mount_raw_data', 'your_mount')\n",
    "#2 Your side control\n",
    "ysc_td = combine_setState_createFeatures('your_side_control_raw_data', 'your_side_control')\n",
    "#3 Your closed guard\n",
    "ycg_td = combine_setState_createFeatures('your_closed_guard_raw_data', 'your_closed_guard')\n",
    "#4 Your back control\n",
    "ybc_td = combine_setState_createFeatures('your_back_control_raw_data', 'your_back_control')\n",
    "#5 Opponent mount or opponent side control\n",
    "omountsc_td = combine_setState_createFeatures('opponent_mount_and_opponent_side_control_raw_data', 'opponent_mount_or_sc')\n",
    "#6 Opponent closed guard\n",
    "ocg_td = combine_setState_createFeatures('opponent_closed_guard_raw_data', 'opponent_closed_guard')\n",
    "#7 Opponent back control\n",
    "obc_td = combine_setState_createFeatures('opponent_back_control_raw_data', 'opponent_back_control')\n",
    "#8 \"Non jiu-jitsu\" motion\n",
    "nonjj_td = combine_setState_createFeatures('non_jj_raw_data', 'non_jj')"
   ]
  },
  {
   "cell_type": "code",
   "execution_count": 5,
   "metadata": {
    "collapsed": false
   },
   "outputs": [
    {
     "name": "stdout",
     "output_type": "stream",
     "text": [
      "      ACCEL_X   ACCEL_Y   ACCEL_Z     GYRO_X     GYRO_Y     GYRO_Z  rolling_median_x  rolling_median_y  rolling_median_z  rolling_max_x  ...       std_gx     std_gy     std_gz    diff_x    diff_y    diff_z     diff_gx     diff_gy     diff_gz  state\n",
      "0   -0.956200 -0.138667  0.345900   1.638267  -3.331367   2.634300         -0.959000         -0.144333          0.343000      -0.937000  ...     3.825866   3.183290   1.504622 -0.031000 -0.082667 -0.086333  -16.768000  -13.536000   -5.874333      0\n",
      "1   -0.967133 -0.141233  0.304333  -0.987900   4.613767  -2.477667         -0.967167         -0.140667          0.293833      -0.934000  ...    11.374584   4.399729   5.393528 -0.071000 -0.095000 -0.130333  -37.641667  -18.191000  -17.011667      0\n",
      "2   -0.979100 -0.275000  0.007133 -15.534633  13.845567   2.855633         -0.991333         -0.299833         -0.040000      -0.903000  ...    20.217687  12.087133  13.339227 -0.154000 -0.239667 -0.449667  -62.927000  -39.634000  -39.513000      0\n",
      "3   -1.011567 -0.164133 -0.035167   7.928933  -1.965367   3.802900         -1.011833         -0.156167         -0.036667      -0.957000  ...    10.331382   4.115022   5.014399 -0.103000 -0.181000 -0.062000  -41.586000  -15.305000  -18.739333      0\n",
      "4   -1.015500 -0.151067 -0.008467  -1.298800  -1.306933  -0.581367         -1.015500         -0.153667         -0.008000      -1.005000  ...     1.256858   3.112987   1.701482 -0.020000 -0.032333 -0.036000   -4.756000  -15.427000   -7.073000      0\n",
      "5   -1.014967 -0.160800  0.017100  -0.235867  -1.802867   0.256233         -1.014833         -0.157833          0.009333      -1.000000  ...     1.601543   2.260080   0.600016 -0.026000 -0.056667 -0.057667   -8.048000   -8.964000   -2.337667      0\n",
      "6   -1.003933 -0.142633  0.139267   3.689000  -5.046800   2.815067         -1.011500         -0.160000          0.149167      -0.953333  ...     7.103986   5.140981   4.742662 -0.089667 -0.200000 -0.155000  -25.711000  -18.435000  -18.353000      0\n",
      "7   -1.012967 -0.142967  0.095167  -2.892367   5.544767  -2.552867         -1.013500         -0.154167          0.078833      -0.956000  ...    10.451087   7.789005   6.535397 -0.081000 -0.153000 -0.211333  -43.516333  -31.159000  -25.569333      0\n",
      "8   -1.009600 -0.158767  0.091267  -0.144267  -1.691067   0.546700         -1.011833         -0.159000          0.083500      -0.932000  ...     2.658921   6.143352   2.034631 -0.125000 -0.090000 -0.265000  -13.171000  -22.866000   -8.719000      0\n",
      "9   -1.011600 -0.167700  0.070133  -0.233733   1.847600   0.245967         -1.012833         -0.168833          0.073167      -1.003000  ...     1.230952   3.425489   0.698596 -0.015000 -0.016000 -0.052000   -5.488000  -14.268000   -2.927000      0\n",
      "10  -1.011767 -0.167367  0.050267  -0.126067  -0.091333   0.449333         -1.012000         -0.167833          0.052000      -1.000000  ...     0.661648   1.813638   0.386875 -0.022000 -0.009000 -0.027000   -2.440000   -7.866000   -1.646000      0\n",
      "11  -1.012433 -0.167067  0.035967  -0.195133   1.772300   0.620100         -1.013000         -0.167500          0.037500      -0.994000  ...     0.744680   1.476471   0.411762 -0.033000 -0.013000 -0.062000   -2.865000   -9.939000   -1.524000      0\n",
      "12  -1.014500 -0.159500  0.022500   0.176733  -0.016300   0.985833         -1.014667         -0.162000          0.021000      -1.001000  ...     1.231933   2.657391   0.635957 -0.022333 -0.027000 -0.042000   -5.122000   -9.511667   -2.134000      0\n",
      "13  -1.007733 -0.176300 -0.003367  -1.981733   4.518200  -2.595533         -1.008000         -0.154000          0.018833      -0.988000  ...     4.080083   7.971488   3.697066 -0.039000 -0.111667 -0.190000  -13.780000  -25.304667  -10.142333      0\n",
      "14  -1.012033 -0.133500 -0.077267   2.886167  -1.146333   8.819033         -1.013833         -0.128500         -0.079000      -0.986000  ...     4.613710   3.015750   7.253332 -0.043000 -0.237333 -0.051667  -15.385667  -10.934667  -22.622000      0\n",
      "15  -1.014367 -0.028600  0.105567  -0.853667  -9.262233  -1.319033         -1.012667         -0.005000          0.150167      -0.993000  ...     4.522065   5.947961   7.352678 -0.047667 -0.142000 -0.196667  -14.513000  -22.744000  -22.479333      0\n",
      "16  -1.008667 -0.176933  0.006333  -8.349567  10.282633  -2.563000         -1.006333         -0.180500         -0.021000      -0.990000  ...     6.550641   6.758230   5.378271 -0.043000 -0.091000 -0.243000  -20.610000  -20.955333  -18.353667      0\n",
      "17  -1.022667 -0.059133 -0.010400   6.493833  -3.487833   6.764267         -1.022333         -0.052333         -0.004333      -1.002000  ...     4.096907   3.026150   3.771320 -0.067000 -0.143667 -0.110333  -16.748000  -10.975667  -11.524000      0\n",
      "18  -1.013467  0.049933 -0.118700   6.725533   7.239900   4.945133         -1.012667          0.058333         -0.151333      -0.979000  ...     9.496145   7.635655   3.654891 -0.080000 -0.113000 -0.226000  -31.951000  -29.431333  -14.370000      0\n",
      "19  -1.013500 -0.030000 -0.117233  -5.839467  -6.902433  -8.441133         -1.012000         -0.013333         -0.153000      -0.984000  ...     8.092192   9.522321   3.879058 -0.109000 -0.209000 -0.188000  -32.683000  -45.183000  -14.634333      0\n",
      "20  -1.008400 -0.168400 -0.069567  -5.233700   3.819233  -2.439033         -1.007667         -0.169833         -0.071667      -0.975000  ...     6.704184   7.004720   6.200419 -0.088000 -0.096000 -0.152000  -22.561000  -25.873667  -18.760333      0\n",
      "21  -0.995500 -0.154833 -0.140933  -9.601633   3.345500  -2.723567         -0.997000         -0.154833         -0.112333      -0.958333  ...     9.440353   8.557986   5.455869 -0.089667 -0.157000 -0.236667  -24.146000  -26.808667  -17.378000      0\n",
      "22  -0.877567 -0.114600 -0.495433  -8.693167  11.819100   1.577267         -0.870500         -0.106833         -0.505500      -0.829000  ...     9.626025  13.993544   3.774980 -0.105333 -0.131667 -0.271333  -31.483000  -38.110000  -11.646000      0\n",
      "23  -0.640967 -0.087267 -0.766167   0.184967  20.922800  -0.780533         -0.592167         -0.094000         -0.802000      -0.478000  ...     9.945811  25.656547   5.061196 -0.367667 -0.186000 -0.485667  -42.073000  -82.683000  -21.402000      0\n",
      "24  -0.583133 -0.104833 -0.815700  -0.099600   0.319100   0.640367         -0.581000         -0.105500         -0.815167      -0.578000  ...     1.104009   1.444468   0.630786 -0.019000 -0.019667 -0.029667   -5.183000   -6.951000   -2.378000      0\n",
      "25  -0.583167 -0.104600 -0.815600   0.512233  -0.461333   0.209433         -0.580667         -0.103000         -0.818167      -0.571000  ...     1.154492   1.201935   0.237975 -0.031000 -0.025333 -0.045000   -4.025000   -3.902000   -0.894667      0\n",
      "26  -0.784300 -0.128800 -0.586567  13.449133 -21.690933   8.268267         -0.825667         -0.125000         -0.565167      -0.604667  ...    14.424341  17.949975  10.965887 -0.329333 -0.154333 -0.498000  -45.183000  -56.768333  -30.061000      0\n",
      "27  -0.716667 -0.002467 -0.717733   3.837467  18.904533   6.337433         -0.699333         -0.001000         -0.729333      -0.657333  ...     9.916534  17.890770  10.617946 -0.202667 -0.186667 -0.456667  -35.081333  -60.610000  -30.956000      0\n",
      "28  -0.675167 -0.052667 -0.752533   0.048833  -0.189067  -0.721600         -0.676000         -0.053000         -0.747500      -0.658000  ...     2.750930   1.825876   2.015119 -0.030000 -0.032000 -0.050333  -12.805000   -6.850000   -6.808667      0\n",
      "29  -0.678367 -0.040067 -0.751133  -0.733867   0.416767   0.498033         -0.678333         -0.039167         -0.750333      -0.664000  ...     1.184124   0.760662   0.654040 -0.032000 -0.027000 -0.034000   -4.777000   -2.885333   -2.540667      0\n",
      "..        ...       ...       ...        ...        ...        ...               ...               ...               ...            ...  ...          ...        ...        ...       ...       ...       ...         ...         ...         ...    ...\n",
      "469 -0.356300  0.230300 -0.878633   4.209333  12.961333   3.680967         -0.346500          0.183500         -0.866000       0.125000  ...    59.418915  58.812262  26.278459 -0.828000 -0.910000 -0.896667 -256.829000 -191.605333  -87.378000      0\n",
      "470 -0.628733  0.464933 -0.583567 -13.138200 -16.808933  -5.333267         -0.633167          0.503000         -0.582333      -0.248000  ...    60.245129  39.532331  66.284347 -0.793000 -0.783667 -0.741667 -221.280000 -118.963333 -175.061000      0\n",
      "471 -0.784833  0.061200 -0.547500  -2.975600  27.451233   7.296800         -0.876167          0.004000         -0.487333      -0.231000  ...    55.643272  34.243498  72.953691 -0.886000 -0.894000 -1.412000 -195.853000 -152.317000 -228.048667      0\n",
      "472 -0.553033  0.131733 -0.797800   7.731667  -1.569100  -8.644400         -0.554500          0.115000         -0.803000      -0.200333  ...    58.924484  34.884662  63.588526 -0.768667 -1.309000 -0.721000 -192.622000 -157.500000 -188.536333      0\n",
      "473 -0.402567  0.147267 -0.846433  -3.873967   0.375933  18.306967         -0.411500          0.123500         -0.854000       0.646000  ...    38.299260  36.295585  40.531117 -1.591000 -0.911000 -0.969000 -227.500000 -127.561000 -134.045000      0\n",
      "474 -0.906433  0.196167 -0.341867  -4.396367 -26.662567  -2.087333         -0.906333          0.200000         -0.334000      -0.768333  ...    29.054745  44.331119  33.787837 -0.317667 -0.802333 -0.399333 -110.366000 -137.683000 -116.381667      0\n",
      "475 -0.926500  0.079467 -0.355767   8.721567  -2.898367   4.569100         -0.909833          0.205500         -0.337500      -0.836000  ...    35.927454  28.605502  45.039111 -0.254333 -0.878333 -0.566000 -140.223667 -105.305333 -162.073000      0\n",
      "476 -0.847933  0.168533 -0.516700   9.075167   4.465433   8.508067         -0.839833          0.126000         -0.510000      -0.673000  ...    23.683208  31.123865  19.169795 -0.400000 -0.581667 -0.304333  -84.756000 -137.073000  -54.593333      0\n",
      "477 -0.619500 -0.017633 -0.677167 -22.941033  35.483733 -50.638300         -0.598333         -0.082167         -0.721667      -0.156000  ...    21.649269  36.762821  42.610039 -0.933000 -0.999667 -1.256000  -85.061000 -138.293000 -127.561000      0\n",
      "478 -0.338433  0.253367 -0.839933 -13.999967  -5.723533  68.483767         -0.379000          0.362000         -0.870333       0.137000  ...    41.404897  30.284794  42.325902 -0.953000 -1.311000 -0.781000 -166.158000 -129.695000 -142.845667      0\n",
      "479 -0.629400  0.381967 -0.643467   1.601700 -28.426833 -15.335367         -0.669000          0.355500         -0.647833      -0.292333  ...    27.310306  25.742783  12.629337 -0.687667 -0.490667 -0.988333 -114.289000 -111.097000  -42.968000      0\n",
      "480 -0.825900  0.229167 -0.443867   0.741800  18.040633 -14.199200         -0.869000          0.219667         -0.514000      -0.578667  ...    27.593303  39.972531  10.584494 -0.449333 -0.426000 -0.837333 -106.788667 -126.525000  -34.145667      0\n",
      "481 -0.268333  0.337800 -0.887800 -12.095433   9.014200  13.878100         -0.269000          0.364833         -0.898833       0.249000  ...    49.362077  50.721258  45.871339 -0.812000 -0.853000 -0.771000 -182.825667 -176.830000 -126.036333      0\n",
      "482 -0.623233  0.299967 -0.670000  31.241933 -35.715433  34.961333         -0.563833          0.257000         -0.647333      -0.215000  ...    45.340465  41.078194  43.174186 -1.176000 -1.038000 -0.901667 -203.842000 -173.698667 -143.414000      0\n",
      "483 -0.610400 -0.054667 -0.736400  14.674733   3.802833 -13.605700         -0.633167         -0.104500         -0.792000      -0.294000  ...    74.226940  43.779260  32.204217 -0.548000 -1.245000 -0.708000 -269.085333 -148.232000 -113.333000      0\n",
      "484 -0.737900  0.100833 -0.598733  -3.977733 -12.762333 -14.414600         -0.704667         -0.055167         -0.597500      -0.406000  ...    42.809434  28.208978  61.424174 -0.608667 -1.572000 -0.419000 -155.833667 -113.476000 -208.903000      0\n",
      "485 -0.761333  0.375233 -0.414967  12.121900   0.817033  32.341500         -0.827833          0.448167         -0.432000      -0.371333  ...    40.317242  43.929794  33.814895 -0.586667 -0.639000 -0.868667 -140.041000 -149.634000 -108.576333      0\n",
      "486 -0.453900  0.289000 -0.758433 -26.884133   5.083367 -21.473533         -0.442833          0.353500         -0.754333       0.126000  ...    84.749439  61.617672  25.224923 -1.036667 -1.198000 -1.253333 -273.963000 -235.183000  -94.634000      0\n",
      "487 -0.852900  0.209000 -0.374667 -12.924800  21.918733 -27.741967         -0.887667          0.214167         -0.373667      -0.441000  ...    26.209898  47.130892  31.270369 -0.709000 -0.723000 -0.829667 -108.720000 -161.341000  -92.662333      0\n",
      "488 -0.800700  0.204833 -0.443733 -16.138233 -23.498000  -4.073200         -0.880167          0.250833         -0.361500      -0.428667  ...    24.007747  27.918216  35.128288 -0.632333 -0.524000 -0.908000  -87.866000 -108.414000 -114.309333      0\n",
      "489 -0.593467  0.092767 -0.741100  21.928900  22.428867  11.595500         -0.587500          0.146500         -0.665500       0.452000  ...    83.876328  57.479392  15.148114 -1.623000 -2.644000 -2.501000 -465.914000 -229.186667  -75.183000      0\n",
      "490 -0.779567  0.232667 -0.461167 -12.280533  -7.713467  19.081267         -0.873000          0.135667         -0.419500      -0.330000  ...    30.148146  50.340418  23.112506 -0.788000 -0.847333 -0.905333 -110.365667 -181.240000  -77.744000      0\n",
      "491 -0.751233  0.412067 -0.376600  -1.542700 -32.617867  -2.932833         -0.801833          0.402500         -0.393000      -0.176000  ...    64.520966  75.349481  21.469043 -1.107000 -1.415333 -1.342000 -397.317000 -330.122000  -73.475000      0\n",
      "492 -0.537867  0.460833 -0.591467   8.449200  43.079333  15.296700         -0.452000          0.369500         -0.502167       0.243000  ...    75.253267  80.499005  39.916076 -1.539333 -2.282000 -2.245333 -427.196000 -404.024000 -132.683000      0\n",
      "493 -0.879167  0.421600 -0.245800  -5.361700 -21.914700 -21.097533         -0.874000          0.401500         -0.261000      -0.665333  ...    36.364131  49.411646  31.426397 -0.567667 -0.342333 -0.802333 -146.463333 -161.972000 -103.109000      0\n",
      "494 -0.767967  0.288600 -0.523633  -0.918767   3.764267   6.575300         -0.733500          0.442500         -0.518000      -0.536000  ...    32.521516  27.177603  37.626810 -0.540000 -0.815000 -0.416667 -112.134000  -94.207000 -124.756000      0\n",
      "495 -0.847600  0.362067 -0.330933   4.739800  -9.000033  10.298733         -0.940333          0.319333         -0.317167      -0.136000  ...    21.758446  28.961342  52.218168 -1.172000 -0.915000 -0.533000  -77.642667 -111.158000 -157.073000      0\n",
      "496 -0.867000  0.142167 -0.428333  25.969467   5.743867   6.010133         -0.859167          0.119333         -0.422667      -0.331000  ...    34.089722  24.588517  72.891602 -0.956000 -1.017000 -0.556333 -115.915000  -84.146667 -260.610000      0\n",
      "497 -0.952200  0.081267 -0.351100  16.083367 -20.979733  -9.619933         -0.948333          0.085500         -0.298167      -0.605333  ...    32.161839  27.617619  28.565490 -0.808667 -0.576667 -0.827000 -138.415000 -133.049000 -104.756000      0\n",
      "498 -0.917727  0.021091 -0.531182  -4.002882  22.747529  -4.426176               NaN               NaN               NaN            NaN  ...    16.430405  12.116765  20.214861       NaN       NaN       NaN         NaN         NaN         NaN      0\n",
      "\n",
      "[499 rows x 28 columns]\n"
     ]
    }
   ],
   "source": [
    "print ymount_td"
   ]
  },
  {
   "cell_type": "code",
   "execution_count": 6,
   "metadata": {
    "collapsed": false
   },
   "outputs": [
    {
     "name": "stdout",
     "output_type": "stream",
     "text": [
      "Removed 2 NaN rows\n",
      "Removed 2 NaN rows\n",
      "Removed 1 NaN rows\n",
      "Removed 3 NaN rows\n",
      "Removed 1 NaN rows\n",
      "   index  ACCEL_X   ACCEL_Y  ACCEL_Z    GYRO_X    GYRO_Y  GYRO_Z  rolling_median_x  rolling_median_y  rolling_median_z  ...      std_gx   std_gy    std_gz  diff_x    diff_y    diff_z  diff_gx  diff_gy   diff_gz  state\n",
      "0      0  -0.9562 -0.138667   0.3459  1.638267 -3.331367  2.6343            -0.959         -0.144333             0.343  ...    3.825866  3.18329  1.504622  -0.031 -0.082667 -0.086333  -16.768  -13.536 -5.874333      0\n",
      "\n",
      "[1 rows x 29 columns]\n",
      "   ACCEL_X  ACCEL_Y   ACCEL_Z  GYRO_X  GYRO_Y  GYRO_Z  rolling_median_x  rolling_median_y  rolling_median_z  rolling_max_x    ...        std_z   std_gx    std_gy    std_gz  diff_x  diff_y  diff_z  diff_gx  diff_gy   diff_gz\n",
      "0  -0.9732  -0.2798  0.169633  0.5204  0.1606  0.6444         -0.975167         -0.279167          0.165333         -0.964    ...     0.013456  0.71578  3.435847  0.593049  -0.016  -0.013  -0.041   -2.866  -12.907 -2.276333\n",
      "\n",
      "[1 rows x 27 columns]\n"
     ]
    }
   ],
   "source": [
    "test_data1 = prep_test('test1_ymount_ycg.csv')\n",
    "test_data4 = prep_test('GL_TEST1_CS.csv')\n",
    "test_data5 = prep_test('GL_TEST2_CS.csv')\n",
    "test_data6 = prep_test('GL_TEST3_CS_very_still.csv')\n",
    "test_data7 = prep_test('GL_TEST1_UrsWearing.csv')\n",
    "\n",
    "print training_data[0:1]\n",
    "print test_data1[0:1]\n"
   ]
  },
  {
   "cell_type": "code",
   "execution_count": 7,
   "metadata": {
    "collapsed": false
   },
   "outputs": [
    {
     "name": "stdout",
     "output_type": "stream",
     "text": [
      "[7 7 7 0 0 0 5 5 0 5 0 5 5 5 5 7 5 0 6 4 2 2 2 2 2 2 2 2 4 2 2 2 2 2 2 4 4\n",
      " 4 4 4 4]\n",
      "['OTHER', 'OTHER', 'OTHER', 'your_mount', 'your_mount', 'your_mount', 'opponent_closed_guard', 'opponent_closed_guard', 'your_mount', 'opponent_closed_guard', 'your_mount', 'opponent_closed_guard', 'opponent_closed_guard', 'opponent_closed_guard', 'opponent_closed_guard', 'OTHER', 'opponent_closed_guard', 'your_mount', 'opponent_back_control', 'opponent_mount_or_sc', 'your_closed_guard', 'your_closed_guard', 'your_closed_guard', 'your_closed_guard', 'your_closed_guard', 'your_closed_guard', 'your_closed_guard', 'your_closed_guard', 'opponent_mount_or_sc', 'your_closed_guard', 'your_closed_guard', 'your_closed_guard', 'your_closed_guard', 'your_closed_guard', 'your_closed_guard', 'opponent_mount_or_sc', 'opponent_mount_or_sc', 'opponent_mount_or_sc', 'opponent_mount_or_sc', 'opponent_mount_or_sc', 'opponent_mount_or_sc']\n",
      "Your Mount: 0.146341463415\n",
      "Your Side Control: 0.0\n",
      "Your Closed Guard: 0.341463414634\n",
      "Your Back Control: 0.0\n",
      "Opponent Mount or Opponent Side Control: 0.19512195122\n",
      "Opponent Closed Guard: 0.19512195122\n",
      "Opponent Back Control: 0.0243902439024\n",
      "OTHER: 0.0975609756098\n",
      "\n"
     ]
    }
   ],
   "source": [
    "pre_smooth = trial(training_data, test_data1)"
   ]
  },
  {
   "cell_type": "code",
   "execution_count": 8,
   "metadata": {
    "collapsed": false
   },
   "outputs": [
    {
     "name": "stdout",
     "output_type": "stream",
     "text": [
      "[7 7 3 6 3 3 3 3 3 5 0 0 0 0 0 0 0 1 1 0 1 6 1 1 1 1 0 7 4 4 4 4 2 2 4 4 2\n",
      " 2 2 2 2 4 2 0 0 0 5 5 5 1 0 5 0 5 2 4 4 4 4 4 4 4 4 4 4 4 4 4 6 6 4 6 6 6\n",
      " 6 6 6 6 6 1 0]\n",
      "['OTHER', 'OTHER', 'your_back_control', 'opponent_back_control', 'your_back_control', 'your_back_control', 'your_back_control', 'your_back_control', 'your_back_control', 'opponent_closed_guard', 'your_mount', 'your_mount', 'your_mount', 'your_mount', 'your_mount', 'your_mount', 'your_mount', 'your_side_control', 'your_side_control', 'your_mount', 'your_side_control', 'opponent_back_control', 'your_side_control', 'your_side_control', 'your_side_control', 'your_side_control', 'your_mount', 'OTHER', 'opponent_mount_or_sc', 'opponent_mount_or_sc', 'opponent_mount_or_sc', 'opponent_mount_or_sc', 'your_closed_guard', 'your_closed_guard', 'opponent_mount_or_sc', 'opponent_mount_or_sc', 'your_closed_guard', 'your_closed_guard', 'your_closed_guard', 'your_closed_guard', 'your_closed_guard', 'opponent_mount_or_sc', 'your_closed_guard', 'your_mount', 'your_mount', 'your_mount', 'opponent_closed_guard', 'opponent_closed_guard', 'opponent_closed_guard', 'your_side_control', 'your_mount', 'opponent_closed_guard', 'your_mount', 'opponent_closed_guard', 'your_closed_guard', 'opponent_mount_or_sc', 'opponent_mount_or_sc', 'opponent_mount_or_sc', 'opponent_mount_or_sc', 'opponent_mount_or_sc', 'opponent_mount_or_sc', 'opponent_mount_or_sc', 'opponent_mount_or_sc', 'opponent_mount_or_sc', 'opponent_mount_or_sc', 'opponent_mount_or_sc', 'opponent_mount_or_sc', 'opponent_mount_or_sc', 'opponent_back_control', 'opponent_back_control', 'opponent_mount_or_sc', 'opponent_back_control', 'opponent_back_control', 'opponent_back_control', 'opponent_back_control', 'opponent_back_control', 'opponent_back_control', 'opponent_back_control', 'opponent_back_control', 'your_side_control', 'your_mount']\n",
      "Your Mount: 0.185185185185\n",
      "Your Side Control: 0.111111111111\n",
      "Your Closed Guard: 0.111111111111\n",
      "Your Back Control: 0.0740740740741\n",
      "Opponent Mount or Opponent Side Control: 0.259259259259\n",
      "Opponent Closed Guard: 0.0740740740741\n",
      "Opponent Back Control: 0.148148148148\n",
      "OTHER: 0.037037037037\n",
      "\n"
     ]
    }
   ],
   "source": [
    "pre_smooth2 = trial(training_data, test_data4)"
   ]
  },
  {
   "cell_type": "code",
   "execution_count": 9,
   "metadata": {
    "collapsed": false
   },
   "outputs": [
    {
     "name": "stdout",
     "output_type": "stream",
     "text": [
      "[7 7 6 1 6 6 1 6 6 6 3 3 3 0 0 5 0 0 0 0 1 1 1 5 1 1 1 0 4 2 2 2 2 2 4 2 2\n",
      " 2 2 2 7 0 0 5 0 5 5 5 5 5 5 5 5 7 4 4 4 4 2 4 2 2 4 4 2 4 4 4 4 2 4 3 6 4\n",
      " 4 6 6 4 3 6 6 6 6 6 6 6 3 7 5 7]\n",
      "['OTHER', 'OTHER', 'opponent_back_control', 'your_side_control', 'opponent_back_control', 'opponent_back_control', 'your_side_control', 'opponent_back_control', 'opponent_back_control', 'opponent_back_control', 'your_back_control', 'your_back_control', 'your_back_control', 'your_mount', 'your_mount', 'opponent_closed_guard', 'your_mount', 'your_mount', 'your_mount', 'your_mount', 'your_side_control', 'your_side_control', 'your_side_control', 'opponent_closed_guard', 'your_side_control', 'your_side_control', 'your_side_control', 'your_mount', 'opponent_mount_or_sc', 'your_closed_guard', 'your_closed_guard', 'your_closed_guard', 'your_closed_guard', 'your_closed_guard', 'opponent_mount_or_sc', 'your_closed_guard', 'your_closed_guard', 'your_closed_guard', 'your_closed_guard', 'your_closed_guard', 'OTHER', 'your_mount', 'your_mount', 'opponent_closed_guard', 'your_mount', 'opponent_closed_guard', 'opponent_closed_guard', 'opponent_closed_guard', 'opponent_closed_guard', 'opponent_closed_guard', 'opponent_closed_guard', 'opponent_closed_guard', 'opponent_closed_guard', 'OTHER', 'opponent_mount_or_sc', 'opponent_mount_or_sc', 'opponent_mount_or_sc', 'opponent_mount_or_sc', 'your_closed_guard', 'opponent_mount_or_sc', 'your_closed_guard', 'your_closed_guard', 'opponent_mount_or_sc', 'opponent_mount_or_sc', 'your_closed_guard', 'opponent_mount_or_sc', 'opponent_mount_or_sc', 'opponent_mount_or_sc', 'opponent_mount_or_sc', 'your_closed_guard', 'opponent_mount_or_sc', 'your_back_control', 'opponent_back_control', 'opponent_mount_or_sc', 'opponent_mount_or_sc', 'opponent_back_control', 'opponent_back_control', 'opponent_mount_or_sc', 'your_back_control', 'opponent_back_control', 'opponent_back_control', 'opponent_back_control', 'opponent_back_control', 'opponent_back_control', 'opponent_back_control', 'opponent_back_control', 'your_back_control', 'OTHER', 'opponent_closed_guard', 'OTHER']\n",
      "Your Mount: 0.111111111111\n",
      "Your Side Control: 0.0888888888889\n",
      "Your Closed Guard: 0.166666666667\n",
      "Your Back Control: 0.0666666666667\n",
      "Opponent Mount or Opponent Side Control: 0.188888888889\n",
      "Opponent Closed Guard: 0.133333333333\n",
      "Opponent Back Control: 0.177777777778\n",
      "OTHER: 0.0666666666667\n",
      "\n"
     ]
    }
   ],
   "source": [
    "pre_smooth3 = trial(training_data, test_data5)"
   ]
  },
  {
   "cell_type": "code",
   "execution_count": 10,
   "metadata": {
    "collapsed": false
   },
   "outputs": [
    {
     "name": "stdout",
     "output_type": "stream",
     "text": [
      "[7 7 7 6 3 6 6 6 6 6 3 3 5 0 0 5 5 5 5 5 5 7 7 7 7 5 7 5 0 1 1 1 1 1 1 1 1\n",
      " 1 1 1 5 7 2 2 2 2 7 7 7 2 2 2 7 7 7 2 2 7 7 7 7 2 2 2 5 5 5 5 5 5 5 5 5 5\n",
      " 5 5 5 5 5 0 5 7 4 4 4 4 4 7 7 7 7 7 7 7 7 7 2 4 4 4 4 4 4 4 4 7 4 7 7 4 7\n",
      " 4 4 2 6 6 6 6 6 6 6 6 6 6 6 6 6 6 6 6 6 0 0 7 5]\n",
      "['OTHER', 'OTHER', 'OTHER', 'opponent_back_control', 'your_back_control', 'opponent_back_control', 'opponent_back_control', 'opponent_back_control', 'opponent_back_control', 'opponent_back_control', 'your_back_control', 'your_back_control', 'opponent_closed_guard', 'your_mount', 'your_mount', 'opponent_closed_guard', 'opponent_closed_guard', 'opponent_closed_guard', 'opponent_closed_guard', 'opponent_closed_guard', 'opponent_closed_guard', 'OTHER', 'OTHER', 'OTHER', 'OTHER', 'opponent_closed_guard', 'OTHER', 'opponent_closed_guard', 'your_mount', 'your_side_control', 'your_side_control', 'your_side_control', 'your_side_control', 'your_side_control', 'your_side_control', 'your_side_control', 'your_side_control', 'your_side_control', 'your_side_control', 'your_side_control', 'opponent_closed_guard', 'OTHER', 'your_closed_guard', 'your_closed_guard', 'your_closed_guard', 'your_closed_guard', 'OTHER', 'OTHER', 'OTHER', 'your_closed_guard', 'your_closed_guard', 'your_closed_guard', 'OTHER', 'OTHER', 'OTHER', 'your_closed_guard', 'your_closed_guard', 'OTHER', 'OTHER', 'OTHER', 'OTHER', 'your_closed_guard', 'your_closed_guard', 'your_closed_guard', 'opponent_closed_guard', 'opponent_closed_guard', 'opponent_closed_guard', 'opponent_closed_guard', 'opponent_closed_guard', 'opponent_closed_guard', 'opponent_closed_guard', 'opponent_closed_guard', 'opponent_closed_guard', 'opponent_closed_guard', 'opponent_closed_guard', 'opponent_closed_guard', 'opponent_closed_guard', 'opponent_closed_guard', 'opponent_closed_guard', 'your_mount', 'opponent_closed_guard', 'OTHER', 'opponent_mount_or_sc', 'opponent_mount_or_sc', 'opponent_mount_or_sc', 'opponent_mount_or_sc', 'opponent_mount_or_sc', 'OTHER', 'OTHER', 'OTHER', 'OTHER', 'OTHER', 'OTHER', 'OTHER', 'OTHER', 'OTHER', 'your_closed_guard', 'opponent_mount_or_sc', 'opponent_mount_or_sc', 'opponent_mount_or_sc', 'opponent_mount_or_sc', 'opponent_mount_or_sc', 'opponent_mount_or_sc', 'opponent_mount_or_sc', 'opponent_mount_or_sc', 'OTHER', 'opponent_mount_or_sc', 'OTHER', 'OTHER', 'opponent_mount_or_sc', 'OTHER', 'opponent_mount_or_sc', 'opponent_mount_or_sc', 'your_closed_guard', 'opponent_back_control', 'opponent_back_control', 'opponent_back_control', 'opponent_back_control', 'opponent_back_control', 'opponent_back_control', 'opponent_back_control', 'opponent_back_control', 'opponent_back_control', 'opponent_back_control', 'opponent_back_control', 'opponent_back_control', 'opponent_back_control', 'opponent_back_control', 'opponent_back_control', 'opponent_back_control', 'opponent_back_control', 'your_mount', 'your_mount', 'OTHER', 'opponent_closed_guard']\n",
      "Your Mount: 0.0444444444444\n",
      "Your Side Control: 0.0814814814815\n",
      "Your Closed Guard: 0.103703703704\n",
      "Your Back Control: 0.0222222222222\n",
      "Opponent Mount or Opponent Side Control: 0.125925925926\n",
      "Opponent Closed Guard: 0.2\n",
      "Opponent Back Control: 0.17037037037\n",
      "OTHER: 0.251851851852\n",
      "\n"
     ]
    }
   ],
   "source": [
    "pre_smooth4 = trial(training_data, test_data6)"
   ]
  },
  {
   "cell_type": "code",
   "execution_count": 11,
   "metadata": {
    "collapsed": false
   },
   "outputs": [
    {
     "name": "stdout",
     "output_type": "stream",
     "text": [
      "[7 7 2 3 3 3 3 3 3 3 0 0 0 0 0 0 0 0 0 1 1 1 1 1 1 1 0 2 4 4 4 4 4 2 2 4 4\n",
      " 1 0 0 0 7 0 0 0 5 0 4 4 4 4 4 4 4 4 4 4 4 4 2 4 4 4 6 6 6 6 6 6 6 6 6 6 6\n",
      " 1 1 5 7]\n",
      "['OTHER', 'OTHER', 'your_closed_guard', 'your_back_control', 'your_back_control', 'your_back_control', 'your_back_control', 'your_back_control', 'your_back_control', 'your_back_control', 'your_mount', 'your_mount', 'your_mount', 'your_mount', 'your_mount', 'your_mount', 'your_mount', 'your_mount', 'your_mount', 'your_side_control', 'your_side_control', 'your_side_control', 'your_side_control', 'your_side_control', 'your_side_control', 'your_side_control', 'your_mount', 'your_closed_guard', 'opponent_mount_or_sc', 'opponent_mount_or_sc', 'opponent_mount_or_sc', 'opponent_mount_or_sc', 'opponent_mount_or_sc', 'your_closed_guard', 'your_closed_guard', 'opponent_mount_or_sc', 'opponent_mount_or_sc', 'your_side_control', 'your_mount', 'your_mount', 'your_mount', 'OTHER', 'your_mount', 'your_mount', 'your_mount', 'opponent_closed_guard', 'your_mount', 'opponent_mount_or_sc', 'opponent_mount_or_sc', 'opponent_mount_or_sc', 'opponent_mount_or_sc', 'opponent_mount_or_sc', 'opponent_mount_or_sc', 'opponent_mount_or_sc', 'opponent_mount_or_sc', 'opponent_mount_or_sc', 'opponent_mount_or_sc', 'opponent_mount_or_sc', 'opponent_mount_or_sc', 'your_closed_guard', 'opponent_mount_or_sc', 'opponent_mount_or_sc', 'opponent_mount_or_sc', 'opponent_back_control', 'opponent_back_control', 'opponent_back_control', 'opponent_back_control', 'opponent_back_control', 'opponent_back_control', 'opponent_back_control', 'opponent_back_control', 'opponent_back_control', 'opponent_back_control', 'opponent_back_control', 'your_side_control', 'your_side_control', 'opponent_closed_guard', 'OTHER']\n",
      "Your Mount: 0.217948717949\n",
      "Your Side Control: 0.128205128205\n",
      "Your Closed Guard: 0.0641025641026\n",
      "Your Back Control: 0.0897435897436\n",
      "Opponent Mount or Opponent Side Control: 0.282051282051\n",
      "Opponent Closed Guard: 0.025641025641\n",
      "Opponent Back Control: 0.141025641026\n",
      "OTHER: 0.0512820512821\n",
      "\n"
     ]
    }
   ],
   "source": [
    "pre_smooth5 = trial(training_data, test_data7)"
   ]
  },
  {
   "cell_type": "code",
   "execution_count": 12,
   "metadata": {
    "collapsed": false
   },
   "outputs": [
    {
     "name": "stdout",
     "output_type": "stream",
     "text": [
      "[7 7 7 0 0 0 5 5 0 5 0 5 5 5 5 7 5 0 6 4 2 2 2 2 2 2 2 2 4 2 2 2 2 2 2 4 4\n",
      " 4 4 4 4]\n",
      "['OTHER', 'OTHER', 'OTHER', 'your_mount', 'your_mount', 'your_mount', 'opponent_closed_guard', 'opponent_closed_guard', 'your_mount', 'opponent_closed_guard', 'your_mount', 'opponent_closed_guard', 'opponent_closed_guard', 'opponent_closed_guard', 'opponent_closed_guard', 'OTHER', 'opponent_closed_guard', 'your_mount', 'opponent_back_control', 'opponent_mount_or_sc', 'your_closed_guard', 'your_closed_guard', 'your_closed_guard', 'your_closed_guard', 'your_closed_guard', 'your_closed_guard', 'your_closed_guard', 'your_closed_guard', 'opponent_mount_or_sc', 'your_closed_guard', 'your_closed_guard', 'your_closed_guard', 'your_closed_guard', 'your_closed_guard', 'your_closed_guard', 'opponent_mount_or_sc', 'opponent_mount_or_sc', 'opponent_mount_or_sc', 'opponent_mount_or_sc', 'opponent_mount_or_sc', 'opponent_mount_or_sc']\n"
     ]
    }
   ],
   "source": [
    "print pre_smooth\n",
    "pre_smooth_words = convert_to_words(pre_smooth)\n",
    "pre_smooth_words2 = convert_to_words(pre_smooth2)\n",
    "pre_smooth_words3 = convert_to_words(pre_smooth3)\n",
    "pre_smooth_words4 = convert_to_words(pre_smooth4)\n",
    "pre_smooth_words5 = convert_to_words(pre_smooth5)\n",
    "print pre_smooth_words"
   ]
  },
  {
   "cell_type": "code",
   "execution_count": 13,
   "metadata": {
    "collapsed": false
   },
   "outputs": [],
   "source": [
    "n_components = 8 # ('ybc', 'ymount', 'ysc', 'ycg', 'ocg', 'osc_mount', 'obc', 'other')\n",
    "# n_components = 3\n",
    "startprob = np.array([0.05, 0.05, 0.05, 0.05, 0.05, 0.05, 0.05, 0.65,]) # users will probably turn on sensor standing\n",
    "# startprob = np.array([0.34, 0.33, 0.33])"
   ]
  },
  {
   "cell_type": "code",
   "execution_count": 14,
   "metadata": {
    "collapsed": true
   },
   "outputs": [],
   "source": [
    "# transmat = np.array([[0.34, 0.33, 0.33], [0.9, 0.05, 0.05], [0.9, 0.05, 0.05]])\n",
    "\n",
    "\"\"\"\n",
    "probability of these positions given current state:\n",
    "\n",
    "your_mount' if v == 0 \n",
    "else 'your_side_control' if v == 1\n",
    "else 'your_closed_guard' if v == 2\n",
    "else 'your_back_control' if v == 3\n",
    "else 'opponent_mount_or_sc' if v == 4\n",
    "else 'opponent_closed_guard' if v == 5\n",
    "else 'opponent_back_control' if v == 6\n",
    "else 'OTHER' if v == 7\n",
    "\n",
    "transition_probability = {\n",
    "        'ymt' : {'ymount': 0.800, 'ysc': 0.050, 'ycg': 0.010, 'ybc': 0.050, 'osc_mount': 0.001, 'ocg': 0.050, 'obc': 0.001, 'other': 0.038},\n",
    "        'ysc' : {'ymount': 0.100, 'ysc': 0.800, 'ycg': 0.010, 'ybc': 0.010, 'osc_mount': 0.001, 'ocg': 0.050, 'obc': 0.001, 'other': 0.028},\n",
    "        'ycg' : {'ymount': 0.010, 'ysc': 0.050, 'ycg': 0.800, 'ybc': 0.010, 'osc_mount': 0.050, 'ocg': 0.001, 'obc': 0.001, 'other': 0.078},\n",
    "        'ybc' : {'ymount': 0.050, 'ysc': 0.010, 'ycg': 0.050, 'ybc': 0.800, 'osc_mount': 0.001, 'ocg': 0.010, 'obc': 0.001, 'other': 0.078},\n",
    "        'omt' : {'ymount': 0.001, 'ysc': 0.050, 'ycg': 0.010, 'ybc': 0.001, 'osc_mount': 0.800, 'ocg': 0.050, 'obc': 0.050, 'other': 0.038},\n",
    "        'ocg' : {'ymount': 0.100, 'ysc': 0.050, 'ycg': 0.010, 'ybc': 0.010, 'osc_mount': 0.001, 'ocg': 0.800, 'obc': 0.001, 'other': 0.028},\n",
    "        'obc' : {'ymount': 0.010, 'ysc': 0.050, 'ycg': 0.001, 'ybc': 0.010, 'osc_mount': 0.050, 'ocg': 0.001, 'obc': 0.800, 'other': 0.078},\n",
    "        'oth' : {'ymount': 0.050, 'ysc': 0.010, 'ycg': 0.050, 'ybc': 0.078, 'osc_mount': 0.001, 'ocg': 0.010, 'obc': 0.001, 'other': 0.800}\n",
    "     }\n",
    "\"\"\"\n",
    "\n",
    "transmat = np.array([\n",
    "                    [0.800, 0.050, 0.010, 0.050, 0.001, 0.050, 0.001, 0.038], \n",
    "                    [0.100, 0.800, 0.010, 0.010, 0.001, 0.050, 0.001, 0.028], \n",
    "                    [0.010, 0.050, 0.800, 0.010, 0.050, 0.001, 0.001, 0.078], \n",
    "                    [0.050, 0.010, 0.050, 0.800, 0.001, 0.010, 0.001, 0.078],\n",
    "                    [0.001, 0.050, 0.010, 0.001, 0.800, 0.050, 0.050, 0.038],\n",
    "                    [0.100, 0.050, 0.010, 0.010, 0.001, 0.800, 0.001, 0.028],\n",
    "                    [0.010, 0.050, 0.001, 0.010, 0.050, 0.001, 0.800, 0.078],\n",
    "                    [0.050, 0.010, 0.050, 0.078, 0.001, 0.010, 0.001, 0.800],\n",
    "                    ])"
   ]
  },
  {
   "cell_type": "code",
   "execution_count": 15,
   "metadata": {
    "collapsed": true
   },
   "outputs": [],
   "source": [
    "# emissionprob = np.array([[0.34, 0.33, 0.33], [0.4, 0.55, 0.05], [0.05, 0.55, 0.4]])\n",
    "\n",
    "\"\"\"\n",
    "\n",
    "probability of these positions given current state:\n",
    "\n",
    "your_mount' if v == 0 \n",
    "else 'your_side_control' if v == 1\n",
    "else 'your_closed_guard' if v == 2\n",
    "else 'your_back_control' if v == 3\n",
    "else 'opponent_mount_or_sc' if v == 4\n",
    "else 'opponent_closed_guard' if v == 5\n",
    "else 'opponent_back_control' if v == 6\n",
    "else 'OTHER' if v == 7\n",
    "\n",
    "emission_probability = {\n",
    "        'ymt' : {'ymount': 0.500, 'ysc': 0.050, 'ycg': 0.010, 'ybc': 0.050, 'osc_mount': 0.001, 'ocg': 0.350, 'obc': 0.001, 'other': 0.038},\n",
    "        'ysc' : {'ymount': 0.100, 'ysc': 0.800, 'ycg': 0.010, 'ybc': 0.010, 'osc_mount': 0.001, 'ocg': 0.050, 'obc': 0.001, 'other': 0.028},\n",
    "        'ycg' : {'ymount': 0.010, 'ysc': 0.050, 'ycg': 0.400, 'ybc': 0.010, 'osc_mount': 0.500, 'ocg': 0.001, 'obc': 0.001, 'other': 0.078},\n",
    "        'ybc' : {'ymount': 0.050, 'ysc': 0.010, 'ycg': 0.050, 'ybc': 0.600, 'osc_mount': 0.001, 'ocg': 0.010, 'obc': 0.201, 'other': 0.078},\n",
    "        'omt' : {'ymount': 0.001, 'ysc': 0.050, 'ycg': 0.210, 'ybc': 0.050, 'osc_mount': 0.600, 'ocg': 0.050, 'obc': 0.001, 'other': 0.038},\n",
    "        'ocg' : {'ymount': 0.400, 'ysc': 0.050, 'ycg': 0.010, 'ybc': 0.010, 'osc_mount': 0.001, 'ocg': 0.400, 'obc': 0.001, 'other': 0.028},\n",
    "        'obc' : {'ymount': 0.010, 'ysc': 0.050, 'ycg': 0.001, 'ybc': 0.110, 'osc_mount': 0.050, 'ocg': 0.001, 'obc': 0.700, 'other': 0.078},\n",
    "        'oth' : {'ymount': 0.050, 'ysc': 0.010, 'ycg': 0.050, 'ybc': 0.078, 'osc_mount': 0.001, 'ocg': 0.010, 'obc': 0.001, 'other': 0.800}\n",
    "     }\n",
    "\"\"\"\n",
    "\n",
    "emissionprob = np.array([\n",
    "                        [0.500, 0.050, 0.010, 0.050, 0.001, 0.350, 0.001, 0.038], \n",
    "                        [0.100, 0.800, 0.010, 0.010, 0.001, 0.050, 0.001, 0.028], \n",
    "                        [0.010, 0.050, 0.350, 0.010, 0.500, 0.001, 0.001, 0.078], \n",
    "                        [0.050, 0.010, 0.050, 0.700, 0.001, 0.010, 0.101, 0.078],\n",
    "                        [0.001, 0.050, 0.210, 0.050, 0.600, 0.050, 0.001, 0.038],\n",
    "                        [0.400, 0.050, 0.010, 0.010, 0.001, 0.400, 0.001, 0.028],\n",
    "                        [0.010, 0.050, 0.001, 0.110, 0.050, 0.001, 0.700, 0.078],\n",
    "                        [0.050, 0.010, 0.050, 0.078, 0.001, 0.010, 0.001, 0.800],\n",
    "                        ])\n"
   ]
  },
  {
   "cell_type": "code",
   "execution_count": 16,
   "metadata": {
    "collapsed": false
   },
   "outputs": [],
   "source": [
    "# Hidden Markov Model with multinomial (discrete) emissions\n",
    "model = hmm.MultinomialHMM(n_components=n_components,\n",
    "                           n_iter=10,\n",
    "                           verbose=False)\n",
    "\n",
    "model.startprob_ = startprob\n",
    "model.transmat_ = transmat\n",
    "model.emissionprob_ = emissionprob\n",
    "# model.n_features = 8"
   ]
  },
  {
   "cell_type": "code",
   "execution_count": 17,
   "metadata": {
    "collapsed": false
   },
   "outputs": [
    {
     "name": "stdout",
     "output_type": "stream",
     "text": [
      "[[7]\n",
      " [7]\n",
      " [0]\n",
      " [7]\n",
      " [7]] [7 7 0 7 7]\n",
      "==========\n",
      "[[7]\n",
      " [7]\n",
      " [7]\n",
      " [0]\n",
      " [0]\n",
      " [0]\n",
      " [5]\n",
      " [5]\n",
      " [0]\n",
      " [5]\n",
      " [0]\n",
      " [5]\n",
      " [5]\n",
      " [5]\n",
      " [5]\n",
      " [7]\n",
      " [5]\n",
      " [0]\n",
      " [6]\n",
      " [4]\n",
      " [2]\n",
      " [2]\n",
      " [2]\n",
      " [2]\n",
      " [2]\n",
      " [2]\n",
      " [2]\n",
      " [2]\n",
      " [4]\n",
      " [2]\n",
      " [2]\n",
      " [2]\n",
      " [2]\n",
      " [2]\n",
      " [2]\n",
      " [4]\n",
      " [4]\n",
      " [4]\n",
      " [4]\n",
      " [4]\n",
      " [4]]\n"
     ]
    }
   ],
   "source": [
    "# observations = np.array([1, 1, 2, 2, 1, 0, 1, 2, 2, 0])\n",
    "observations = np.array(pre_smooth)\n",
    "observations2 = np.array(pre_smooth2)\n",
    "observations3 = np.array(pre_smooth3)\n",
    "observations4 = np.array(pre_smooth4)\n",
    "observations5 = np.array(pre_smooth5)\n",
    "a,b = model.sample(5)\n",
    "print a,b\n",
    "print '=========='\n",
    "\n",
    "n_samples = len(observations)\n",
    "data = observations.reshape((n_samples, -1))\n",
    "print data\n",
    "\n",
    "n_samples2 = len(observations2)\n",
    "data2 = observations2.reshape((n_samples2, -1))\n",
    "\n",
    "n_samples3 = len(observations3)\n",
    "data3 = observations3.reshape((n_samples3, -1))\n",
    "\n",
    "n_samples4 = len(observations4)\n",
    "data4 = observations4.reshape((n_samples4, -1))\n",
    "\n",
    "n_samples5 = len(observations5)\n",
    "data5 = observations5.reshape((n_samples5, -1))"
   ]
  },
  {
   "cell_type": "code",
   "execution_count": 18,
   "metadata": {
    "collapsed": false
   },
   "outputs": [
    {
     "data": {
      "text/plain": [
       "\"correct sequence\\nyour_mount' if v == 0 \\nelse 'your_side_control' if v == 1\\nelse 'your_closed_guard' if v == 2\\nelse 'your_back_control' if v == 3\\nelse 'opponent_mount_or_sc' if v == 4\\nelse 'opponent_closed_guard' if v == 5\\nelse 'opponent_back_control' if v == 6\\nelse 'OTHER' if v == 7\\n\\n\\n[3, 0, 1, 2, 5, 4, 6]\\n\\n\""
      ]
     },
     "execution_count": 18,
     "metadata": {},
     "output_type": "execute_result"
    }
   ],
   "source": [
    "# decode(X, lengths=None, algorithm=None)[source]\n",
    "# Find most likely state sequence corresponding to X.\n",
    "# Will work best for organic tests\n",
    "\n",
    "\"\"\"correct sequence\n",
    "your_mount' if v == 0 \n",
    "else 'your_side_control' if v == 1\n",
    "else 'your_closed_guard' if v == 2\n",
    "else 'your_back_control' if v == 3\n",
    "else 'opponent_mount_or_sc' if v == 4\n",
    "else 'opponent_closed_guard' if v == 5\n",
    "else 'opponent_back_control' if v == 6\n",
    "else 'OTHER' if v == 7\n",
    "\n",
    "\n",
    "[3, 0, 1, 2, 5, 4, 6]\n",
    "\n",
    "\"\"\""
   ]
  },
  {
   "cell_type": "code",
   "execution_count": 19,
   "metadata": {
    "collapsed": false
   },
   "outputs": [
    {
     "name": "stdout",
     "output_type": "stream",
     "text": [
      "TEST 1\n",
      "pre smooth: [7 7 7 0 0 0 5 5 0 5 0 5 5 5 5 7 5 0 6 4 2 2 2 2 2 2 2 2 4 2 2 2 2 2 2 4 4\n",
      " 4 4 4 4]\n",
      "result accuracy -56.7066729375%\n",
      "final result: [7 7 7 0 0 0 0 0 0 0 0 0 0 0 0 0 0 0 3 2 2 2 2 2 2 2 2 2 2 2 2 2 2 2 2 2 2\n",
      " 2 2 2 2]\n",
      "=====================\n",
      "pre smooth words: ['OTHER', 'OTHER', 'OTHER', 'your_mount', 'your_mount', 'your_mount', 'opponent_closed_guard', 'opponent_closed_guard', 'your_mount', 'opponent_closed_guard', 'your_mount', 'opponent_closed_guard', 'opponent_closed_guard', 'opponent_closed_guard', 'opponent_closed_guard', 'OTHER', 'opponent_closed_guard', 'your_mount', 'opponent_back_control', 'opponent_mount_or_sc', 'your_closed_guard', 'your_closed_guard', 'your_closed_guard', 'your_closed_guard', 'your_closed_guard', 'your_closed_guard', 'your_closed_guard', 'your_closed_guard', 'opponent_mount_or_sc', 'your_closed_guard', 'your_closed_guard', 'your_closed_guard', 'your_closed_guard', 'your_closed_guard', 'your_closed_guard', 'opponent_mount_or_sc', 'opponent_mount_or_sc', 'opponent_mount_or_sc', 'opponent_mount_or_sc', 'opponent_mount_or_sc', 'opponent_mount_or_sc']\n",
      "=====================\n",
      "result words: ['OTHER', 'OTHER', 'OTHER', 'your_mount', 'your_mount', 'your_mount', 'your_mount', 'your_mount', 'your_mount', 'your_mount', 'your_mount', 'your_mount', 'your_mount', 'your_mount', 'your_mount', 'your_mount', 'your_mount', 'your_mount', 'your_back_control', 'your_closed_guard', 'your_closed_guard', 'your_closed_guard', 'your_closed_guard', 'your_closed_guard', 'your_closed_guard', 'your_closed_guard', 'your_closed_guard', 'your_closed_guard', 'your_closed_guard', 'your_closed_guard', 'your_closed_guard', 'your_closed_guard', 'your_closed_guard', 'your_closed_guard', 'your_closed_guard', 'your_closed_guard', 'your_closed_guard', 'your_closed_guard', 'your_closed_guard', 'your_closed_guard', 'your_closed_guard']\n",
      "\n",
      "\n",
      "pre smooth stats\n",
      "Your Mount: 0.146341463415\n",
      "Your Side Control: 0.0\n",
      "Your Closed Guard: 0.341463414634\n",
      "Your Back Control: 0.0\n",
      "Opponent Mount or Opponent Side Control: 0.19512195122\n",
      "Opponent Closed Guard: 0.19512195122\n",
      "Opponent Back Control: 0.0243902439024\n",
      "OTHER: 0.0975609756098\n",
      "\n",
      "None\n",
      "\n",
      "\n",
      "result stats\n",
      "Your Mount: 0.365853658537\n",
      "Your Side Control: 0.0\n",
      "Your Closed Guard: 0.536585365854\n",
      "Your Back Control: 0.0243902439024\n",
      "Opponent Mount or Opponent Side Control: 0.0\n",
      "Opponent Closed Guard: 0.0\n",
      "Opponent Back Control: 0.0\n",
      "OTHER: 0.0731707317073\n",
      "\n",
      "None\n",
      "******************\n"
     ]
    }
   ],
   "source": [
    "print 'TEST 1'\n",
    "\n",
    "result = model.decode(data, algorithm='viterbi')\n",
    "print 'pre smooth: {}'.format(pre_smooth)\n",
    "print 'result accuracy {}%'.format(result[0])\n",
    "print 'final result: {}'.format(result[1])\n",
    "\n",
    "result_words = convert_to_words(result[1])\n",
    "print '====================='\n",
    "print 'pre smooth words: {}'.format(pre_smooth_words)\n",
    "print '====================='\n",
    "print 'result words: {}'.format(result_words)\n",
    "\n",
    "print '\\n'\n",
    "print \"pre smooth stats\"\n",
    "print get_position_stats(pre_smooth_words)\n",
    "\n",
    "print '\\n'\n",
    "\n",
    "print 'result stats'\n",
    "print get_position_stats(result_words)\n",
    "\n",
    "print '******************'\n",
    "\n",
    "\n"
   ]
  },
  {
   "cell_type": "code",
   "execution_count": 20,
   "metadata": {
    "collapsed": false
   },
   "outputs": [
    {
     "name": "stdout",
     "output_type": "stream",
     "text": [
      "TEST2\n",
      "pre smooth: [7 7 3 6 3 3 3 3 3 5 0 0 0 0 0 0 0 1 1 0 1 6 1 1 1 1 0 7 4 4 4 4 2 2 4 4 2\n",
      " 2 2 2 2 4 2 0 0 0 5 5 5 1 0 5 0 5 2 4 4 4 4 4 4 4 4 4 4 4 4 4 6 6 4 6 6 6\n",
      " 6 6 6 6 6 1 0]\n",
      "result accuracy -115.181012184%\n",
      "final result: [7 7 3 3 3 3 3 3 3 0 0 0 0 0 0 0 0 1 1 1 1 1 1 1 1 1 1 7 2 2 2 2 2 2 2 2 2\n",
      " 2 2 2 2 2 2 0 0 0 0 0 0 0 0 0 0 0 2 4 4 4 4 4 4 4 4 4 4 4 4 4 6 6 6 6 6 6\n",
      " 6 6 6 6 6 1 1]\n",
      "=====================\n",
      "pre smooth words: ['OTHER', 'OTHER', 'your_back_control', 'opponent_back_control', 'your_back_control', 'your_back_control', 'your_back_control', 'your_back_control', 'your_back_control', 'opponent_closed_guard', 'your_mount', 'your_mount', 'your_mount', 'your_mount', 'your_mount', 'your_mount', 'your_mount', 'your_side_control', 'your_side_control', 'your_mount', 'your_side_control', 'opponent_back_control', 'your_side_control', 'your_side_control', 'your_side_control', 'your_side_control', 'your_mount', 'OTHER', 'opponent_mount_or_sc', 'opponent_mount_or_sc', 'opponent_mount_or_sc', 'opponent_mount_or_sc', 'your_closed_guard', 'your_closed_guard', 'opponent_mount_or_sc', 'opponent_mount_or_sc', 'your_closed_guard', 'your_closed_guard', 'your_closed_guard', 'your_closed_guard', 'your_closed_guard', 'opponent_mount_or_sc', 'your_closed_guard', 'your_mount', 'your_mount', 'your_mount', 'opponent_closed_guard', 'opponent_closed_guard', 'opponent_closed_guard', 'your_side_control', 'your_mount', 'opponent_closed_guard', 'your_mount', 'opponent_closed_guard', 'your_closed_guard', 'opponent_mount_or_sc', 'opponent_mount_or_sc', 'opponent_mount_or_sc', 'opponent_mount_or_sc', 'opponent_mount_or_sc', 'opponent_mount_or_sc', 'opponent_mount_or_sc', 'opponent_mount_or_sc', 'opponent_mount_or_sc', 'opponent_mount_or_sc', 'opponent_mount_or_sc', 'opponent_mount_or_sc', 'opponent_mount_or_sc', 'opponent_back_control', 'opponent_back_control', 'opponent_mount_or_sc', 'opponent_back_control', 'opponent_back_control', 'opponent_back_control', 'opponent_back_control', 'opponent_back_control', 'opponent_back_control', 'opponent_back_control', 'opponent_back_control', 'your_side_control', 'your_mount']\n",
      "=====================\n",
      "result words: ['OTHER', 'OTHER', 'your_back_control', 'your_back_control', 'your_back_control', 'your_back_control', 'your_back_control', 'your_back_control', 'your_back_control', 'your_mount', 'your_mount', 'your_mount', 'your_mount', 'your_mount', 'your_mount', 'your_mount', 'your_mount', 'your_side_control', 'your_side_control', 'your_side_control', 'your_side_control', 'your_side_control', 'your_side_control', 'your_side_control', 'your_side_control', 'your_side_control', 'your_side_control', 'OTHER', 'your_closed_guard', 'your_closed_guard', 'your_closed_guard', 'your_closed_guard', 'your_closed_guard', 'your_closed_guard', 'your_closed_guard', 'your_closed_guard', 'your_closed_guard', 'your_closed_guard', 'your_closed_guard', 'your_closed_guard', 'your_closed_guard', 'your_closed_guard', 'your_closed_guard', 'your_mount', 'your_mount', 'your_mount', 'your_mount', 'your_mount', 'your_mount', 'your_mount', 'your_mount', 'your_mount', 'your_mount', 'your_mount', 'your_closed_guard', 'opponent_mount_or_sc', 'opponent_mount_or_sc', 'opponent_mount_or_sc', 'opponent_mount_or_sc', 'opponent_mount_or_sc', 'opponent_mount_or_sc', 'opponent_mount_or_sc', 'opponent_mount_or_sc', 'opponent_mount_or_sc', 'opponent_mount_or_sc', 'opponent_mount_or_sc', 'opponent_mount_or_sc', 'opponent_mount_or_sc', 'opponent_back_control', 'opponent_back_control', 'opponent_back_control', 'opponent_back_control', 'opponent_back_control', 'opponent_back_control', 'opponent_back_control', 'opponent_back_control', 'opponent_back_control', 'opponent_back_control', 'opponent_back_control', 'your_side_control', 'your_side_control']\n",
      "\n",
      "\n",
      "pre smooth stats\n",
      "Your Mount: 0.185185185185\n",
      "Your Side Control: 0.111111111111\n",
      "Your Closed Guard: 0.111111111111\n",
      "Your Back Control: 0.0740740740741\n",
      "Opponent Mount or Opponent Side Control: 0.259259259259\n",
      "Opponent Closed Guard: 0.0740740740741\n",
      "Opponent Back Control: 0.148148148148\n",
      "OTHER: 0.037037037037\n",
      "\n",
      "None\n",
      "\n",
      "\n",
      "result stats\n",
      "Your Mount: 0.234567901235\n",
      "Your Side Control: 0.148148148148\n",
      "Your Closed Guard: 0.197530864198\n",
      "Your Back Control: 0.0864197530864\n",
      "Opponent Mount or Opponent Side Control: 0.16049382716\n",
      "Opponent Closed Guard: 0.0\n",
      "Opponent Back Control: 0.135802469136\n",
      "OTHER: 0.037037037037\n",
      "\n",
      "None\n",
      "******************\n"
     ]
    }
   ],
   "source": [
    "print 'TEST2'\n",
    "result2 = model.decode(data2, algorithm='viterbi')\n",
    "print 'pre smooth: {}'.format(pre_smooth2)\n",
    "print 'result accuracy {}%'.format(result2[0])\n",
    "print 'final result: {}'.format(result2[1])\n",
    "\n",
    "result_words2 = convert_to_words(result2[1])\n",
    "print '====================='\n",
    "print 'pre smooth words: {}'.format(pre_smooth_words2)\n",
    "print '====================='\n",
    "print 'result words: {}'.format(result_words2)\n",
    "\n",
    "print '\\n'\n",
    "print \"pre smooth stats\"\n",
    "print get_position_stats(pre_smooth_words2)\n",
    "\n",
    "print '\\n'\n",
    "\n",
    "print 'result stats'\n",
    "print get_position_stats(result_words2)\n",
    "\n",
    "print '******************'"
   ]
  },
  {
   "cell_type": "code",
   "execution_count": 21,
   "metadata": {
    "collapsed": false
   },
   "outputs": [
    {
     "name": "stdout",
     "output_type": "stream",
     "text": [
      "TEST3\n",
      "pre smooth: [7 7 6 1 6 6 1 6 6 6 3 3 3 0 0 5 0 0 0 0 1 1 1 5 1 1 1 0 4 2 2 2 2 2 4 2 2\n",
      " 2 2 2 7 0 0 5 0 5 5 5 5 5 5 5 5 7 4 4 4 4 2 4 2 2 4 4 2 4 4 4 4 2 4 3 6 4\n",
      " 4 6 6 4 3 6 6 6 6 6 6 6 3 7 5 7]\n",
      "result accuracy -142.823263999%\n",
      "final result: [7 7 6 6 6 6 6 6 6 6 3 3 3 0 0 0 0 0 0 0 1 1 1 1 1 1 1 1 2 2 2 2 2 2 2 2 2\n",
      " 2 2 2 7 0 0 0 0 0 0 0 0 0 0 0 0 7 2 2 2 2 2 2 2 2 2 2 2 4 4 4 4 4 4 6 6 6\n",
      " 6 6 6 6 6 6 6 6 6 6 6 6 6 7 7 7]\n",
      "=====================\n",
      "pre smooth words: ['OTHER', 'OTHER', 'opponent_back_control', 'your_side_control', 'opponent_back_control', 'opponent_back_control', 'your_side_control', 'opponent_back_control', 'opponent_back_control', 'opponent_back_control', 'your_back_control', 'your_back_control', 'your_back_control', 'your_mount', 'your_mount', 'opponent_closed_guard', 'your_mount', 'your_mount', 'your_mount', 'your_mount', 'your_side_control', 'your_side_control', 'your_side_control', 'opponent_closed_guard', 'your_side_control', 'your_side_control', 'your_side_control', 'your_mount', 'opponent_mount_or_sc', 'your_closed_guard', 'your_closed_guard', 'your_closed_guard', 'your_closed_guard', 'your_closed_guard', 'opponent_mount_or_sc', 'your_closed_guard', 'your_closed_guard', 'your_closed_guard', 'your_closed_guard', 'your_closed_guard', 'OTHER', 'your_mount', 'your_mount', 'opponent_closed_guard', 'your_mount', 'opponent_closed_guard', 'opponent_closed_guard', 'opponent_closed_guard', 'opponent_closed_guard', 'opponent_closed_guard', 'opponent_closed_guard', 'opponent_closed_guard', 'opponent_closed_guard', 'OTHER', 'opponent_mount_or_sc', 'opponent_mount_or_sc', 'opponent_mount_or_sc', 'opponent_mount_or_sc', 'your_closed_guard', 'opponent_mount_or_sc', 'your_closed_guard', 'your_closed_guard', 'opponent_mount_or_sc', 'opponent_mount_or_sc', 'your_closed_guard', 'opponent_mount_or_sc', 'opponent_mount_or_sc', 'opponent_mount_or_sc', 'opponent_mount_or_sc', 'your_closed_guard', 'opponent_mount_or_sc', 'your_back_control', 'opponent_back_control', 'opponent_mount_or_sc', 'opponent_mount_or_sc', 'opponent_back_control', 'opponent_back_control', 'opponent_mount_or_sc', 'your_back_control', 'opponent_back_control', 'opponent_back_control', 'opponent_back_control', 'opponent_back_control', 'opponent_back_control', 'opponent_back_control', 'opponent_back_control', 'your_back_control', 'OTHER', 'opponent_closed_guard', 'OTHER']\n",
      "=====================\n",
      "result words: ['OTHER', 'OTHER', 'opponent_back_control', 'opponent_back_control', 'opponent_back_control', 'opponent_back_control', 'opponent_back_control', 'opponent_back_control', 'opponent_back_control', 'opponent_back_control', 'your_back_control', 'your_back_control', 'your_back_control', 'your_mount', 'your_mount', 'your_mount', 'your_mount', 'your_mount', 'your_mount', 'your_mount', 'your_side_control', 'your_side_control', 'your_side_control', 'your_side_control', 'your_side_control', 'your_side_control', 'your_side_control', 'your_side_control', 'your_closed_guard', 'your_closed_guard', 'your_closed_guard', 'your_closed_guard', 'your_closed_guard', 'your_closed_guard', 'your_closed_guard', 'your_closed_guard', 'your_closed_guard', 'your_closed_guard', 'your_closed_guard', 'your_closed_guard', 'OTHER', 'your_mount', 'your_mount', 'your_mount', 'your_mount', 'your_mount', 'your_mount', 'your_mount', 'your_mount', 'your_mount', 'your_mount', 'your_mount', 'your_mount', 'OTHER', 'your_closed_guard', 'your_closed_guard', 'your_closed_guard', 'your_closed_guard', 'your_closed_guard', 'your_closed_guard', 'your_closed_guard', 'your_closed_guard', 'your_closed_guard', 'your_closed_guard', 'your_closed_guard', 'opponent_mount_or_sc', 'opponent_mount_or_sc', 'opponent_mount_or_sc', 'opponent_mount_or_sc', 'opponent_mount_or_sc', 'opponent_mount_or_sc', 'opponent_back_control', 'opponent_back_control', 'opponent_back_control', 'opponent_back_control', 'opponent_back_control', 'opponent_back_control', 'opponent_back_control', 'opponent_back_control', 'opponent_back_control', 'opponent_back_control', 'opponent_back_control', 'opponent_back_control', 'opponent_back_control', 'opponent_back_control', 'opponent_back_control', 'opponent_back_control', 'OTHER', 'OTHER', 'OTHER']\n",
      "\n",
      "\n",
      "pre smooth stats\n",
      "Your Mount: 0.111111111111\n",
      "Your Side Control: 0.0888888888889\n",
      "Your Closed Guard: 0.166666666667\n",
      "Your Back Control: 0.0666666666667\n",
      "Opponent Mount or Opponent Side Control: 0.188888888889\n",
      "Opponent Closed Guard: 0.133333333333\n",
      "Opponent Back Control: 0.177777777778\n",
      "OTHER: 0.0666666666667\n",
      "\n",
      "None\n",
      "\n",
      "\n",
      "result stats\n",
      "Your Mount: 0.211111111111\n",
      "Your Side Control: 0.0888888888889\n",
      "Your Closed Guard: 0.255555555556\n",
      "Your Back Control: 0.0333333333333\n",
      "Opponent Mount or Opponent Side Control: 0.0666666666667\n",
      "Opponent Closed Guard: 0.0\n",
      "Opponent Back Control: 0.266666666667\n",
      "OTHER: 0.0777777777778\n",
      "\n",
      "None\n",
      "******************\n"
     ]
    }
   ],
   "source": [
    "print 'TEST3'\n",
    "result3 = model.decode(data3, algorithm='viterbi')\n",
    "print 'pre smooth: {}'.format(pre_smooth3)\n",
    "print 'result accuracy {}%'.format(result3[0])\n",
    "print 'final result: {}'.format(result3[1])\n",
    "\n",
    "result_words3 = convert_to_words(result3[1])\n",
    "print '====================='\n",
    "print 'pre smooth words: {}'.format(pre_smooth_words3)\n",
    "print '====================='\n",
    "print 'result words: {}'.format(result_words3)\n",
    "\n",
    "print '\\n'\n",
    "print \"pre smooth stats\"\n",
    "print get_position_stats(pre_smooth_words3)\n",
    "\n",
    "print '\\n'\n",
    "\n",
    "print 'result stats'\n",
    "print get_position_stats(result_words3)\n",
    "\n",
    "print '******************'"
   ]
  },
  {
   "cell_type": "code",
   "execution_count": 22,
   "metadata": {
    "collapsed": false
   },
   "outputs": [
    {
     "name": "stdout",
     "output_type": "stream",
     "text": [
      "TEST4\n",
      "pre smooth: [7 7 7 6 3 6 6 6 6 6 3 3 5 0 0 5 5 5 5 5 5 7 7 7 7 5 7 5 0 1 1 1 1 1 1 1 1\n",
      " 1 1 1 5 7 2 2 2 2 7 7 7 2 2 2 7 7 7 2 2 7 7 7 7 2 2 2 5 5 5 5 5 5 5 5 5 5\n",
      " 5 5 5 5 5 0 5 7 4 4 4 4 4 7 7 7 7 7 7 7 7 7 2 4 4 4 4 4 4 4 4 7 4 7 7 4 7\n",
      " 4 4 2 6 6 6 6 6 6 6 6 6 6 6 6 6 6 6 6 6 0 0 7 5]\n",
      "result accuracy -195.687190721%\n",
      "final result: [7 7 7 6 6 6 6 6 6 6 3 3 0 0 0 0 0 0 0 0 0 7 7 7 7 0 0 0 0 1 1 1 1 1 1 1 1\n",
      " 1 1 1 0 7 2 2 2 2 7 7 7 2 2 2 7 7 7 7 7 7 7 7 7 2 2 2 0 0 0 0 0 0 0 0 0 0\n",
      " 0 0 0 0 0 0 0 7 2 2 2 2 2 7 7 7 7 7 7 7 7 7 2 2 2 2 2 2 2 2 2 2 2 2 2 2 2\n",
      " 4 4 4 6 6 6 6 6 6 6 6 6 6 6 6 6 6 6 6 6 0 0 0 0]\n",
      "=====================\n",
      "pre smooth words: ['OTHER', 'OTHER', 'OTHER', 'opponent_back_control', 'your_back_control', 'opponent_back_control', 'opponent_back_control', 'opponent_back_control', 'opponent_back_control', 'opponent_back_control', 'your_back_control', 'your_back_control', 'opponent_closed_guard', 'your_mount', 'your_mount', 'opponent_closed_guard', 'opponent_closed_guard', 'opponent_closed_guard', 'opponent_closed_guard', 'opponent_closed_guard', 'opponent_closed_guard', 'OTHER', 'OTHER', 'OTHER', 'OTHER', 'opponent_closed_guard', 'OTHER', 'opponent_closed_guard', 'your_mount', 'your_side_control', 'your_side_control', 'your_side_control', 'your_side_control', 'your_side_control', 'your_side_control', 'your_side_control', 'your_side_control', 'your_side_control', 'your_side_control', 'your_side_control', 'opponent_closed_guard', 'OTHER', 'your_closed_guard', 'your_closed_guard', 'your_closed_guard', 'your_closed_guard', 'OTHER', 'OTHER', 'OTHER', 'your_closed_guard', 'your_closed_guard', 'your_closed_guard', 'OTHER', 'OTHER', 'OTHER', 'your_closed_guard', 'your_closed_guard', 'OTHER', 'OTHER', 'OTHER', 'OTHER', 'your_closed_guard', 'your_closed_guard', 'your_closed_guard', 'opponent_closed_guard', 'opponent_closed_guard', 'opponent_closed_guard', 'opponent_closed_guard', 'opponent_closed_guard', 'opponent_closed_guard', 'opponent_closed_guard', 'opponent_closed_guard', 'opponent_closed_guard', 'opponent_closed_guard', 'opponent_closed_guard', 'opponent_closed_guard', 'opponent_closed_guard', 'opponent_closed_guard', 'opponent_closed_guard', 'your_mount', 'opponent_closed_guard', 'OTHER', 'opponent_mount_or_sc', 'opponent_mount_or_sc', 'opponent_mount_or_sc', 'opponent_mount_or_sc', 'opponent_mount_or_sc', 'OTHER', 'OTHER', 'OTHER', 'OTHER', 'OTHER', 'OTHER', 'OTHER', 'OTHER', 'OTHER', 'your_closed_guard', 'opponent_mount_or_sc', 'opponent_mount_or_sc', 'opponent_mount_or_sc', 'opponent_mount_or_sc', 'opponent_mount_or_sc', 'opponent_mount_or_sc', 'opponent_mount_or_sc', 'opponent_mount_or_sc', 'OTHER', 'opponent_mount_or_sc', 'OTHER', 'OTHER', 'opponent_mount_or_sc', 'OTHER', 'opponent_mount_or_sc', 'opponent_mount_or_sc', 'your_closed_guard', 'opponent_back_control', 'opponent_back_control', 'opponent_back_control', 'opponent_back_control', 'opponent_back_control', 'opponent_back_control', 'opponent_back_control', 'opponent_back_control', 'opponent_back_control', 'opponent_back_control', 'opponent_back_control', 'opponent_back_control', 'opponent_back_control', 'opponent_back_control', 'opponent_back_control', 'opponent_back_control', 'opponent_back_control', 'your_mount', 'your_mount', 'OTHER', 'opponent_closed_guard']\n",
      "=====================\n",
      "result words: ['OTHER', 'OTHER', 'OTHER', 'opponent_back_control', 'opponent_back_control', 'opponent_back_control', 'opponent_back_control', 'opponent_back_control', 'opponent_back_control', 'opponent_back_control', 'your_back_control', 'your_back_control', 'your_mount', 'your_mount', 'your_mount', 'your_mount', 'your_mount', 'your_mount', 'your_mount', 'your_mount', 'your_mount', 'OTHER', 'OTHER', 'OTHER', 'OTHER', 'your_mount', 'your_mount', 'your_mount', 'your_mount', 'your_side_control', 'your_side_control', 'your_side_control', 'your_side_control', 'your_side_control', 'your_side_control', 'your_side_control', 'your_side_control', 'your_side_control', 'your_side_control', 'your_side_control', 'your_mount', 'OTHER', 'your_closed_guard', 'your_closed_guard', 'your_closed_guard', 'your_closed_guard', 'OTHER', 'OTHER', 'OTHER', 'your_closed_guard', 'your_closed_guard', 'your_closed_guard', 'OTHER', 'OTHER', 'OTHER', 'OTHER', 'OTHER', 'OTHER', 'OTHER', 'OTHER', 'OTHER', 'your_closed_guard', 'your_closed_guard', 'your_closed_guard', 'your_mount', 'your_mount', 'your_mount', 'your_mount', 'your_mount', 'your_mount', 'your_mount', 'your_mount', 'your_mount', 'your_mount', 'your_mount', 'your_mount', 'your_mount', 'your_mount', 'your_mount', 'your_mount', 'your_mount', 'OTHER', 'your_closed_guard', 'your_closed_guard', 'your_closed_guard', 'your_closed_guard', 'your_closed_guard', 'OTHER', 'OTHER', 'OTHER', 'OTHER', 'OTHER', 'OTHER', 'OTHER', 'OTHER', 'OTHER', 'your_closed_guard', 'your_closed_guard', 'your_closed_guard', 'your_closed_guard', 'your_closed_guard', 'your_closed_guard', 'your_closed_guard', 'your_closed_guard', 'your_closed_guard', 'your_closed_guard', 'your_closed_guard', 'your_closed_guard', 'your_closed_guard', 'your_closed_guard', 'your_closed_guard', 'opponent_mount_or_sc', 'opponent_mount_or_sc', 'opponent_mount_or_sc', 'opponent_back_control', 'opponent_back_control', 'opponent_back_control', 'opponent_back_control', 'opponent_back_control', 'opponent_back_control', 'opponent_back_control', 'opponent_back_control', 'opponent_back_control', 'opponent_back_control', 'opponent_back_control', 'opponent_back_control', 'opponent_back_control', 'opponent_back_control', 'opponent_back_control', 'opponent_back_control', 'opponent_back_control', 'your_mount', 'your_mount', 'your_mount', 'your_mount']\n",
      "\n",
      "\n",
      "pre smooth stats\n",
      "Your Mount: 0.0444444444444\n",
      "Your Side Control: 0.0814814814815\n",
      "Your Closed Guard: 0.103703703704\n",
      "Your Back Control: 0.0222222222222\n",
      "Opponent Mount or Opponent Side Control: 0.125925925926\n",
      "Opponent Closed Guard: 0.2\n",
      "Opponent Back Control: 0.17037037037\n",
      "OTHER: 0.251851851852\n",
      "\n",
      "None\n",
      "\n",
      "\n",
      "result stats\n",
      "Your Mount: 0.259259259259\n",
      "Your Side Control: 0.0814814814815\n",
      "Your Closed Guard: 0.222222222222\n",
      "Your Back Control: 0.0148148148148\n",
      "Opponent Mount or Opponent Side Control: 0.0222222222222\n",
      "Opponent Closed Guard: 0.0\n",
      "Opponent Back Control: 0.177777777778\n",
      "OTHER: 0.222222222222\n",
      "\n",
      "None\n",
      "******************\n"
     ]
    }
   ],
   "source": [
    "print 'TEST4'\n",
    "result4 = model.decode(data4, algorithm='viterbi')\n",
    "print 'pre smooth: {}'.format(pre_smooth4)\n",
    "print 'result accuracy {}%'.format(result4[0])\n",
    "print 'final result: {}'.format(result4[1])\n",
    "\n",
    "result_words4 = convert_to_words(result4[1])\n",
    "print '====================='\n",
    "print 'pre smooth words: {}'.format(pre_smooth_words4)\n",
    "print '====================='\n",
    "print 'result words: {}'.format(result_words4)\n",
    "\n",
    "print '\\n'\n",
    "print \"pre smooth stats\"\n",
    "print get_position_stats(pre_smooth_words4)\n",
    "\n",
    "print '\\n'\n",
    "\n",
    "print 'result stats'\n",
    "print get_position_stats(result_words4)\n",
    "\n",
    "print '******************'"
   ]
  },
  {
   "cell_type": "code",
   "execution_count": 23,
   "metadata": {
    "collapsed": false
   },
   "outputs": [
    {
     "name": "stdout",
     "output_type": "stream",
     "text": [
      "TEST5\n",
      "pre smooth: [7 7 2 3 3 3 3 3 3 3 0 0 0 0 0 0 0 0 0 1 1 1 1 1 1 1 0 2 4 4 4 4 4 2 2 4 4\n",
      " 1 0 0 0 7 0 0 0 5 0 4 4 4 4 4 4 4 4 4 4 4 4 2 4 4 4 6 6 6 6 6 6 6 6 6 6 6\n",
      " 1 1 5 7]\n",
      "result accuracy -100.380259417%\n",
      "final result: [7 7 3 3 3 3 3 3 3 3 0 0 0 0 0 0 0 0 0 1 1 1 1 1 1 1 1 2 2 2 2 2 2 2 2 2 2\n",
      " 1 0 0 0 0 0 0 0 0 0 4 4 4 4 4 4 4 4 4 4 4 4 4 4 4 4 6 6 6 6 6 6 6 6 6 6 6\n",
      " 1 1 0 0]\n",
      "=====================\n",
      "pre smooth words: ['OTHER', 'OTHER', 'your_closed_guard', 'your_back_control', 'your_back_control', 'your_back_control', 'your_back_control', 'your_back_control', 'your_back_control', 'your_back_control', 'your_mount', 'your_mount', 'your_mount', 'your_mount', 'your_mount', 'your_mount', 'your_mount', 'your_mount', 'your_mount', 'your_side_control', 'your_side_control', 'your_side_control', 'your_side_control', 'your_side_control', 'your_side_control', 'your_side_control', 'your_mount', 'your_closed_guard', 'opponent_mount_or_sc', 'opponent_mount_or_sc', 'opponent_mount_or_sc', 'opponent_mount_or_sc', 'opponent_mount_or_sc', 'your_closed_guard', 'your_closed_guard', 'opponent_mount_or_sc', 'opponent_mount_or_sc', 'your_side_control', 'your_mount', 'your_mount', 'your_mount', 'OTHER', 'your_mount', 'your_mount', 'your_mount', 'opponent_closed_guard', 'your_mount', 'opponent_mount_or_sc', 'opponent_mount_or_sc', 'opponent_mount_or_sc', 'opponent_mount_or_sc', 'opponent_mount_or_sc', 'opponent_mount_or_sc', 'opponent_mount_or_sc', 'opponent_mount_or_sc', 'opponent_mount_or_sc', 'opponent_mount_or_sc', 'opponent_mount_or_sc', 'opponent_mount_or_sc', 'your_closed_guard', 'opponent_mount_or_sc', 'opponent_mount_or_sc', 'opponent_mount_or_sc', 'opponent_back_control', 'opponent_back_control', 'opponent_back_control', 'opponent_back_control', 'opponent_back_control', 'opponent_back_control', 'opponent_back_control', 'opponent_back_control', 'opponent_back_control', 'opponent_back_control', 'opponent_back_control', 'your_side_control', 'your_side_control', 'opponent_closed_guard', 'OTHER']\n",
      "=====================\n",
      "result words: ['OTHER', 'OTHER', 'your_back_control', 'your_back_control', 'your_back_control', 'your_back_control', 'your_back_control', 'your_back_control', 'your_back_control', 'your_back_control', 'your_mount', 'your_mount', 'your_mount', 'your_mount', 'your_mount', 'your_mount', 'your_mount', 'your_mount', 'your_mount', 'your_side_control', 'your_side_control', 'your_side_control', 'your_side_control', 'your_side_control', 'your_side_control', 'your_side_control', 'your_side_control', 'your_closed_guard', 'your_closed_guard', 'your_closed_guard', 'your_closed_guard', 'your_closed_guard', 'your_closed_guard', 'your_closed_guard', 'your_closed_guard', 'your_closed_guard', 'your_closed_guard', 'your_side_control', 'your_mount', 'your_mount', 'your_mount', 'your_mount', 'your_mount', 'your_mount', 'your_mount', 'your_mount', 'your_mount', 'opponent_mount_or_sc', 'opponent_mount_or_sc', 'opponent_mount_or_sc', 'opponent_mount_or_sc', 'opponent_mount_or_sc', 'opponent_mount_or_sc', 'opponent_mount_or_sc', 'opponent_mount_or_sc', 'opponent_mount_or_sc', 'opponent_mount_or_sc', 'opponent_mount_or_sc', 'opponent_mount_or_sc', 'opponent_mount_or_sc', 'opponent_mount_or_sc', 'opponent_mount_or_sc', 'opponent_mount_or_sc', 'opponent_back_control', 'opponent_back_control', 'opponent_back_control', 'opponent_back_control', 'opponent_back_control', 'opponent_back_control', 'opponent_back_control', 'opponent_back_control', 'opponent_back_control', 'opponent_back_control', 'opponent_back_control', 'your_side_control', 'your_side_control', 'your_mount', 'your_mount']\n",
      "\n",
      "\n",
      "pre smooth stats\n",
      "Your Mount: 0.217948717949\n",
      "Your Side Control: 0.128205128205\n",
      "Your Closed Guard: 0.0641025641026\n",
      "Your Back Control: 0.0897435897436\n",
      "Opponent Mount or Opponent Side Control: 0.282051282051\n",
      "Opponent Closed Guard: 0.025641025641\n",
      "Opponent Back Control: 0.141025641026\n",
      "OTHER: 0.0512820512821\n",
      "\n",
      "None\n",
      "\n",
      "\n",
      "result stats\n",
      "Your Mount: 0.25641025641\n",
      "Your Side Control: 0.141025641026\n",
      "Your Closed Guard: 0.128205128205\n",
      "Your Back Control: 0.102564102564\n",
      "Opponent Mount or Opponent Side Control: 0.205128205128\n",
      "Opponent Closed Guard: 0.0\n",
      "Opponent Back Control: 0.141025641026\n",
      "OTHER: 0.025641025641\n",
      "\n",
      "None\n"
     ]
    }
   ],
   "source": [
    "\n",
    "print 'TEST5'\n",
    "result5 = model.decode(data5, algorithm='viterbi')\n",
    "print 'pre smooth: {}'.format(pre_smooth5)\n",
    "print 'result accuracy {}%'.format(result5[0])\n",
    "print 'final result: {}'.format(result5[1])\n",
    "\n",
    "result_words5 = convert_to_words(result5[1])\n",
    "print '====================='\n",
    "print 'pre smooth words: {}'.format(pre_smooth_words5)\n",
    "print '====================='\n",
    "print 'result words: {}'.format(result_words5)\n",
    "\n",
    "print '\\n'\n",
    "print \"pre smooth stats\"\n",
    "print get_position_stats(pre_smooth_words5)\n",
    "\n",
    "print '\\n'\n",
    "\n",
    "print 'result stats'\n",
    "print get_position_stats(result_words5)"
   ]
  },
  {
   "cell_type": "code",
   "execution_count": null,
   "metadata": {
    "collapsed": true
   },
   "outputs": [],
   "source": []
  },
  {
   "cell_type": "code",
   "execution_count": null,
   "metadata": {
    "collapsed": true
   },
   "outputs": [],
   "source": []
  }
 ],
 "metadata": {
  "kernelspec": {
   "display_name": "Python 2",
   "language": "python",
   "name": "python2"
  },
  "language_info": {
   "codemirror_mode": {
    "name": "ipython",
    "version": 2
   },
   "file_extension": ".py",
   "mimetype": "text/x-python",
   "name": "python",
   "nbconvert_exporter": "python",
   "pygments_lexer": "ipython2",
   "version": "2.7.6"
  }
 },
 "nbformat": 4,
 "nbformat_minor": 0
}
