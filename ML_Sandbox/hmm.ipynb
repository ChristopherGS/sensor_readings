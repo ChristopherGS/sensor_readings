{
 "cells": [
  {
   "cell_type": "code",
   "execution_count": 1,
   "metadata": {
    "collapsed": true
   },
   "outputs": [],
   "source": [
    "# HMM smoother"
   ]
  },
  {
   "cell_type": "code",
   "execution_count": 2,
   "metadata": {
    "collapsed": true
   },
   "outputs": [],
   "source": [
    "import numpy as np\n",
    "import matplotlib.pyplot as plt\n",
    "from hmmlearn import hmm\n",
    "\n",
    "from wrangle_updated import prep_test, trial, prep\n",
    "from utilities import convert_to_words"
   ]
  },
  {
   "cell_type": "code",
   "execution_count": null,
   "metadata": {
    "collapsed": true
   },
   "outputs": [],
   "source": [
    "training_data = prep()"
   ]
  },
  {
   "cell_type": "code",
   "execution_count": 37,
   "metadata": {
    "collapsed": false
   },
   "outputs": [
    {
     "name": "stdout",
     "output_type": "stream",
     "text": [
      "Removed 2 NaN rows\n",
      "Removed 2 NaN rows\n",
      "Removed 1 NaN rows\n",
      "Removed 3 NaN rows\n",
      "   index  ACCEL_X   ACCEL_Y  ACCEL_Z    GYRO_X    GYRO_Y  GYRO_Z  rolling_median_x  rolling_median_y  rolling_median_z  ...      std_gx   std_gy    std_gz  diff_x    diff_y    diff_z  diff_gx  diff_gy   diff_gz  state\n",
      "0      0  -0.9562 -0.138667   0.3459  1.638267 -3.331367  2.6343            -0.959         -0.144333             0.343  ...    3.825866  3.18329  1.504622  -0.031 -0.082667 -0.086333  -16.768  -13.536 -5.874333      0\n",
      "\n",
      "[1 rows x 29 columns]\n",
      "   ACCEL_X  ACCEL_Y   ACCEL_Z  GYRO_X  GYRO_Y  GYRO_Z  rolling_median_x  rolling_median_y  rolling_median_z  rolling_max_x    ...        std_z   std_gx    std_gy    std_gz  diff_x  diff_y  diff_z  diff_gx  diff_gy   diff_gz\n",
      "0  -0.9732  -0.2798  0.169633  0.5204  0.1606  0.6444         -0.975167         -0.279167          0.165333         -0.964    ...     0.013456  0.71578  3.435847  0.593049  -0.016  -0.013  -0.041   -2.866  -12.907 -2.276333\n",
      "\n",
      "[1 rows x 27 columns]\n"
     ]
    }
   ],
   "source": [
    "test_data1 = prep_test('test1_ymount_ycg.csv')\n",
    "test_data4 = prep_test('GL_TEST1_CS.csv')\n",
    "test_data5 = prep_test('GL_TEST2_CS.csv')\n",
    "test_data6 = prep_test('GL_TEST3_CS_very_still.csv')\n",
    "\n",
    "print training_data[0:1]\n",
    "print test_data1[0:1]\n"
   ]
  },
  {
   "cell_type": "code",
   "execution_count": 4,
   "metadata": {
    "collapsed": false
   },
   "outputs": [
    {
     "name": "stdout",
     "output_type": "stream",
     "text": [
      "[7 7 0 5 0 5 5 5 0 5 5 5 7 5 5 7 5 0 6 4 2 2 2 2 2 2 2 2 4 2 2 2 2 2 2 4 4\n",
      " 4 4 4 4]\n",
      "['OTHER', 'OTHER', 'your_mount', 'opponent_closed_guard', 'your_mount', 'opponent_closed_guard', 'opponent_closed_guard', 'opponent_closed_guard', 'your_mount', 'opponent_closed_guard', 'opponent_closed_guard', 'opponent_closed_guard', 'OTHER', 'opponent_closed_guard', 'opponent_closed_guard', 'OTHER', 'opponent_closed_guard', 'your_mount', 'opponent_back_control', 'opponent_mount_or_sc', 'your_closed_guard', 'your_closed_guard', 'your_closed_guard', 'your_closed_guard', 'your_closed_guard', 'your_closed_guard', 'your_closed_guard', 'your_closed_guard', 'opponent_mount_or_sc', 'your_closed_guard', 'your_closed_guard', 'your_closed_guard', 'your_closed_guard', 'your_closed_guard', 'your_closed_guard', 'opponent_mount_or_sc', 'opponent_mount_or_sc', 'opponent_mount_or_sc', 'opponent_mount_or_sc', 'opponent_mount_or_sc', 'opponent_mount_or_sc']\n",
      "Your Mount: 0.0975609756098\n",
      "Your Side Control: 0.0\n",
      "Your Closed Guard: 0.341463414634\n",
      "Your Back Control: 0.0\n",
      "Opponent Mount or Opponent Side Control: 0.19512195122\n",
      "Opponent Closed Guard: 0.243902439024\n",
      "Opponent Back Control: 0.0243902439024\n",
      "OTHER: 0.0975609756098\n",
      "\n"
     ]
    }
   ],
   "source": [
    "pre_smooth = trial(training_data, test_data1)"
   ]
  },
  {
   "cell_type": "code",
   "execution_count": 39,
   "metadata": {
    "collapsed": false
   },
   "outputs": [
    {
     "name": "stdout",
     "output_type": "stream",
     "text": [
      "[7 7 3 6 3 6 3 2 3 7 0 0 0 5 0 0 0 1 1 0 1 6 1 1 1 1 0 7 4 4 4 4 4 2 4 4 2\n",
      " 3 2 2 2 4 2 5 0 0 5 5 5 5 0 5 5 5 2 4 4 4 4 4 4 4 4 4 4 4 4 4 6 6 4 6 6 6\n",
      " 6 6 6 6 6 1 5]\n",
      "['OTHER', 'OTHER', 'your_back_control', 'opponent_back_control', 'your_back_control', 'opponent_back_control', 'your_back_control', 'your_closed_guard', 'your_back_control', 'OTHER', 'your_mount', 'your_mount', 'your_mount', 'opponent_closed_guard', 'your_mount', 'your_mount', 'your_mount', 'your_side_control', 'your_side_control', 'your_mount', 'your_side_control', 'opponent_back_control', 'your_side_control', 'your_side_control', 'your_side_control', 'your_side_control', 'your_mount', 'OTHER', 'opponent_mount_or_sc', 'opponent_mount_or_sc', 'opponent_mount_or_sc', 'opponent_mount_or_sc', 'opponent_mount_or_sc', 'your_closed_guard', 'opponent_mount_or_sc', 'opponent_mount_or_sc', 'your_closed_guard', 'your_back_control', 'your_closed_guard', 'your_closed_guard', 'your_closed_guard', 'opponent_mount_or_sc', 'your_closed_guard', 'opponent_closed_guard', 'your_mount', 'your_mount', 'opponent_closed_guard', 'opponent_closed_guard', 'opponent_closed_guard', 'opponent_closed_guard', 'your_mount', 'opponent_closed_guard', 'opponent_closed_guard', 'opponent_closed_guard', 'your_closed_guard', 'opponent_mount_or_sc', 'opponent_mount_or_sc', 'opponent_mount_or_sc', 'opponent_mount_or_sc', 'opponent_mount_or_sc', 'opponent_mount_or_sc', 'opponent_mount_or_sc', 'opponent_mount_or_sc', 'opponent_mount_or_sc', 'opponent_mount_or_sc', 'opponent_mount_or_sc', 'opponent_mount_or_sc', 'opponent_mount_or_sc', 'opponent_back_control', 'opponent_back_control', 'opponent_mount_or_sc', 'opponent_back_control', 'opponent_back_control', 'opponent_back_control', 'opponent_back_control', 'opponent_back_control', 'opponent_back_control', 'opponent_back_control', 'opponent_back_control', 'your_side_control', 'opponent_closed_guard']\n",
      "Your Mount: 0.135802469136\n",
      "Your Side Control: 0.0987654320988\n",
      "Your Closed Guard: 0.0987654320988\n",
      "Your Back Control: 0.0617283950617\n",
      "Opponent Mount or Opponent Side Control: 0.271604938272\n",
      "Opponent Closed Guard: 0.123456790123\n",
      "Opponent Back Control: 0.16049382716\n",
      "OTHER: 0.0493827160494\n",
      "\n"
     ]
    }
   ],
   "source": [
    "pre_smooth2 = trial(training_data, test_data4)"
   ]
  },
  {
   "cell_type": "code",
   "execution_count": 40,
   "metadata": {
    "collapsed": false
   },
   "outputs": [
    {
     "name": "stdout",
     "output_type": "stream",
     "text": [
      "[7 7 7 1 6 6 1 1 1 1 3 3 4 1 0 5 0 0 0 0 0 1 1 5 1 1 1 7 4 2 2 2 2 2 2 2 2\n",
      " 2 2 2 7 0 0 5 0 5 5 5 5 5 5 5 5 7 2 4 4 4 4 4 2 2 4 4 2 4 4 4 4 4 4 3 6 4\n",
      " 4 6 3 4 3 6 6 6 6 6 6 6 3 7 0 7]\n",
      "['OTHER', 'OTHER', 'OTHER', 'your_side_control', 'opponent_back_control', 'opponent_back_control', 'your_side_control', 'your_side_control', 'your_side_control', 'your_side_control', 'your_back_control', 'your_back_control', 'opponent_mount_or_sc', 'your_side_control', 'your_mount', 'opponent_closed_guard', 'your_mount', 'your_mount', 'your_mount', 'your_mount', 'your_mount', 'your_side_control', 'your_side_control', 'opponent_closed_guard', 'your_side_control', 'your_side_control', 'your_side_control', 'OTHER', 'opponent_mount_or_sc', 'your_closed_guard', 'your_closed_guard', 'your_closed_guard', 'your_closed_guard', 'your_closed_guard', 'your_closed_guard', 'your_closed_guard', 'your_closed_guard', 'your_closed_guard', 'your_closed_guard', 'your_closed_guard', 'OTHER', 'your_mount', 'your_mount', 'opponent_closed_guard', 'your_mount', 'opponent_closed_guard', 'opponent_closed_guard', 'opponent_closed_guard', 'opponent_closed_guard', 'opponent_closed_guard', 'opponent_closed_guard', 'opponent_closed_guard', 'opponent_closed_guard', 'OTHER', 'your_closed_guard', 'opponent_mount_or_sc', 'opponent_mount_or_sc', 'opponent_mount_or_sc', 'opponent_mount_or_sc', 'opponent_mount_or_sc', 'your_closed_guard', 'your_closed_guard', 'opponent_mount_or_sc', 'opponent_mount_or_sc', 'your_closed_guard', 'opponent_mount_or_sc', 'opponent_mount_or_sc', 'opponent_mount_or_sc', 'opponent_mount_or_sc', 'opponent_mount_or_sc', 'opponent_mount_or_sc', 'your_back_control', 'opponent_back_control', 'opponent_mount_or_sc', 'opponent_mount_or_sc', 'opponent_back_control', 'your_back_control', 'opponent_mount_or_sc', 'your_back_control', 'opponent_back_control', 'opponent_back_control', 'opponent_back_control', 'opponent_back_control', 'opponent_back_control', 'opponent_back_control', 'opponent_back_control', 'your_back_control', 'OTHER', 'your_mount', 'OTHER']\n",
      "Your Mount: 0.111111111111\n",
      "Your Side Control: 0.122222222222\n",
      "Your Closed Guard: 0.166666666667\n",
      "Your Back Control: 0.0666666666667\n",
      "Opponent Mount or Opponent Side Control: 0.2\n",
      "Opponent Closed Guard: 0.122222222222\n",
      "Opponent Back Control: 0.122222222222\n",
      "OTHER: 0.0888888888889\n",
      "\n"
     ]
    }
   ],
   "source": [
    "pre_smooth3 = trial(training_data, test_data5)"
   ]
  },
  {
   "cell_type": "code",
   "execution_count": 41,
   "metadata": {
    "collapsed": false
   },
   "outputs": [
    {
     "name": "stdout",
     "output_type": "stream",
     "text": [
      "[7 7 7 6 6 6 6 6 6 6 3 3 5 0 0 7 5 5 5 5 5 7 7 7 7 5 7 0 0 1 1 1 1 1 1 1 1\n",
      " 1 1 1 0 2 2 2 2 2 7 7 7 2 2 2 2 2 7 2 2 7 7 7 7 2 2 2 0 5 5 5 5 5 5 5 5 5\n",
      " 5 5 5 5 5 5 5 6 4 4 4 4 4 7 7 7 7 7 7 7 7 7 2 4 4 4 4 4 4 4 4 7 4 4 4 4 7\n",
      " 4 4 2 3 6 6 6 6 6 6 6 6 6 6 6 6 6 6 6 6 0 0 7 5]\n",
      "['OTHER', 'OTHER', 'OTHER', 'opponent_back_control', 'opponent_back_control', 'opponent_back_control', 'opponent_back_control', 'opponent_back_control', 'opponent_back_control', 'opponent_back_control', 'your_back_control', 'your_back_control', 'opponent_closed_guard', 'your_mount', 'your_mount', 'OTHER', 'opponent_closed_guard', 'opponent_closed_guard', 'opponent_closed_guard', 'opponent_closed_guard', 'opponent_closed_guard', 'OTHER', 'OTHER', 'OTHER', 'OTHER', 'opponent_closed_guard', 'OTHER', 'your_mount', 'your_mount', 'your_side_control', 'your_side_control', 'your_side_control', 'your_side_control', 'your_side_control', 'your_side_control', 'your_side_control', 'your_side_control', 'your_side_control', 'your_side_control', 'your_side_control', 'your_mount', 'your_closed_guard', 'your_closed_guard', 'your_closed_guard', 'your_closed_guard', 'your_closed_guard', 'OTHER', 'OTHER', 'OTHER', 'your_closed_guard', 'your_closed_guard', 'your_closed_guard', 'your_closed_guard', 'your_closed_guard', 'OTHER', 'your_closed_guard', 'your_closed_guard', 'OTHER', 'OTHER', 'OTHER', 'OTHER', 'your_closed_guard', 'your_closed_guard', 'your_closed_guard', 'your_mount', 'opponent_closed_guard', 'opponent_closed_guard', 'opponent_closed_guard', 'opponent_closed_guard', 'opponent_closed_guard', 'opponent_closed_guard', 'opponent_closed_guard', 'opponent_closed_guard', 'opponent_closed_guard', 'opponent_closed_guard', 'opponent_closed_guard', 'opponent_closed_guard', 'opponent_closed_guard', 'opponent_closed_guard', 'opponent_closed_guard', 'opponent_closed_guard', 'opponent_back_control', 'opponent_mount_or_sc', 'opponent_mount_or_sc', 'opponent_mount_or_sc', 'opponent_mount_or_sc', 'opponent_mount_or_sc', 'OTHER', 'OTHER', 'OTHER', 'OTHER', 'OTHER', 'OTHER', 'OTHER', 'OTHER', 'OTHER', 'your_closed_guard', 'opponent_mount_or_sc', 'opponent_mount_or_sc', 'opponent_mount_or_sc', 'opponent_mount_or_sc', 'opponent_mount_or_sc', 'opponent_mount_or_sc', 'opponent_mount_or_sc', 'opponent_mount_or_sc', 'OTHER', 'opponent_mount_or_sc', 'opponent_mount_or_sc', 'opponent_mount_or_sc', 'opponent_mount_or_sc', 'OTHER', 'opponent_mount_or_sc', 'opponent_mount_or_sc', 'your_closed_guard', 'your_back_control', 'opponent_back_control', 'opponent_back_control', 'opponent_back_control', 'opponent_back_control', 'opponent_back_control', 'opponent_back_control', 'opponent_back_control', 'opponent_back_control', 'opponent_back_control', 'opponent_back_control', 'opponent_back_control', 'opponent_back_control', 'opponent_back_control', 'opponent_back_control', 'opponent_back_control', 'opponent_back_control', 'your_mount', 'your_mount', 'OTHER', 'opponent_closed_guard']\n",
      "Your Mount: 0.0592592592593\n",
      "Your Side Control: 0.0814814814815\n",
      "Your Closed Guard: 0.125925925926\n",
      "Your Back Control: 0.0222222222222\n",
      "Opponent Mount or Opponent Side Control: 0.140740740741\n",
      "Opponent Closed Guard: 0.177777777778\n",
      "Opponent Back Control: 0.177777777778\n",
      "OTHER: 0.214814814815\n",
      "\n"
     ]
    }
   ],
   "source": [
    "pre_smooth4 = trial(training_data, test_data6)"
   ]
  },
  {
   "cell_type": "code",
   "execution_count": 50,
   "metadata": {
    "collapsed": false
   },
   "outputs": [
    {
     "name": "stdout",
     "output_type": "stream",
     "text": [
      "[7 7 0 5 0 5 5 5 0 5 5 5 7 5 5 7 5 0 6 4 2 2 2 2 2 2 2 2 4 2 2 2 2 2 2 4 4\n",
      " 4 4 4 4]\n",
      "['OTHER', 'OTHER', 'your_mount', 'opponent_closed_guard', 'your_mount', 'opponent_closed_guard', 'opponent_closed_guard', 'opponent_closed_guard', 'your_mount', 'opponent_closed_guard', 'opponent_closed_guard', 'opponent_closed_guard', 'OTHER', 'opponent_closed_guard', 'opponent_closed_guard', 'OTHER', 'opponent_closed_guard', 'your_mount', 'opponent_back_control', 'opponent_mount_or_sc', 'your_closed_guard', 'your_closed_guard', 'your_closed_guard', 'your_closed_guard', 'your_closed_guard', 'your_closed_guard', 'your_closed_guard', 'your_closed_guard', 'opponent_mount_or_sc', 'your_closed_guard', 'your_closed_guard', 'your_closed_guard', 'your_closed_guard', 'your_closed_guard', 'your_closed_guard', 'opponent_mount_or_sc', 'opponent_mount_or_sc', 'opponent_mount_or_sc', 'opponent_mount_or_sc', 'opponent_mount_or_sc', 'opponent_mount_or_sc']\n"
     ]
    }
   ],
   "source": [
    "print pre_smooth\n",
    "pre_smooth_words = convert_to_words(pre_smooth)\n",
    "pre_smooth_words2 = convert_to_words(pre_smooth2)\n",
    "pre_smooth_words3 = convert_to_words(pre_smooth3)\n",
    "pre_smooth_words4 = convert_to_words(pre_smooth4)\n",
    "print pre_smooth_words"
   ]
  },
  {
   "cell_type": "code",
   "execution_count": 6,
   "metadata": {
    "collapsed": false
   },
   "outputs": [],
   "source": [
    "n_components = 8 # ('ybc', 'ymount', 'ysc', 'ycg', 'ocg', 'osc_mount', 'obc', 'other')\n",
    "# n_components = 3\n",
    "startprob = np.array([0.05, 0.05, 0.05, 0.05, 0.05, 0.05, 0.05, 0.65,]) # users will probably turn on sensor standing\n",
    "# startprob = np.array([0.34, 0.33, 0.33])"
   ]
  },
  {
   "cell_type": "code",
   "execution_count": 16,
   "metadata": {
    "collapsed": true
   },
   "outputs": [],
   "source": [
    "# transmat = np.array([[0.34, 0.33, 0.33], [0.9, 0.05, 0.05], [0.9, 0.05, 0.05]])\n",
    "\n",
    "\"\"\"\n",
    "probability of these positions given current state:\n",
    "\n",
    "your_mount' if v == 0 \n",
    "else 'your_side_control' if v == 1\n",
    "else 'your_closed_guard' if v == 2\n",
    "else 'your_back_control' if v == 3\n",
    "else 'opponent_mount_or_sc' if v == 4\n",
    "else 'opponent_closed_guard' if v == 5\n",
    "else 'opponent_back_control' if v == 6\n",
    "else 'OTHER' if v == 7\n",
    "\n",
    "transition_probability = {\n",
    "        'ymt' : {'ymount': 0.800, 'ysc': 0.050, 'ycg': 0.010, 'ybc': 0.050, 'osc_mount': 0.001, 'ocg': 0.050, 'obc': 0.001, 'other': 0.038},\n",
    "        'ysc' : {'ymount': 0.100, 'ysc': 0.800, 'ycg': 0.010, 'ybc': 0.010, 'osc_mount': 0.001, 'ocg': 0.050, 'obc': 0.001, 'other': 0.028},\n",
    "        'ycg' : {'ymount': 0.010, 'ysc': 0.050, 'ycg': 0.800, 'ybc': 0.010, 'osc_mount': 0.050, 'ocg': 0.001, 'obc': 0.001, 'other': 0.078},\n",
    "        'ybc' : {'ymount': 0.050, 'ysc': 0.010, 'ycg': 0.050, 'ybc': 0.800, 'osc_mount': 0.001, 'ocg': 0.010, 'obc': 0.001, 'other': 0.078},\n",
    "        'omt' : {'ymount': 0.001, 'ysc': 0.050, 'ycg': 0.010, 'ybc': 0.050, 'osc_mount': 0.800, 'ocg': 0.050, 'obc': 0.001, 'other': 0.038},\n",
    "        'ocg' : {'ymount': 0.100, 'ysc': 0.050, 'ycg': 0.010, 'ybc': 0.010, 'osc_mount': 0.001, 'ocg': 0.800, 'obc': 0.001, 'other': 0.028},\n",
    "        'obc' : {'ymount': 0.010, 'ysc': 0.050, 'ycg': 0.001, 'ybc': 0.010, 'osc_mount': 0.050, 'ocg': 0.001, 'obc': 0.800, 'other': 0.078},\n",
    "        'oth' : {'ymount': 0.050, 'ysc': 0.010, 'ycg': 0.050, 'ybc': 0.078, 'osc_mount': 0.001, 'ocg': 0.010, 'obc': 0.001, 'other': 0.800}\n",
    "     }\n",
    "\"\"\"\n",
    "\n",
    "transmat = np.array([\n",
    "                    [0.800, 0.050, 0.010, 0.050, 0.001, 0.050, 0.001, 0.038], \n",
    "                    [0.100, 0.800, 0.010, 0.010, 0.001, 0.050, 0.001, 0.028], \n",
    "                    [0.010, 0.050, 0.800, 0.010, 0.050, 0.001, 0.001, 0.078], \n",
    "                    [0.050, 0.010, 0.050, 0.800, 0.001, 0.010, 0.001, 0.078],\n",
    "                    [0.001, 0.050, 0.010, 0.050, 0.800, 0.050, 0.001, 0.038],\n",
    "                    [0.100, 0.050, 0.010, 0.010, 0.001, 0.800, 0.001, 0.028],\n",
    "                    [0.010, 0.050, 0.001, 0.010, 0.050, 0.001, 0.800, 0.078],\n",
    "                    [0.050, 0.010, 0.050, 0.078, 0.001, 0.010, 0.001, 0.800],\n",
    "                    ])"
   ]
  },
  {
   "cell_type": "code",
   "execution_count": 54,
   "metadata": {
    "collapsed": true
   },
   "outputs": [],
   "source": [
    "# emissionprob = np.array([[0.34, 0.33, 0.33], [0.4, 0.55, 0.05], [0.05, 0.55, 0.4]])\n",
    "\n",
    "\"\"\"\n",
    "\n",
    "probability of these positions given current state:\n",
    "\n",
    "your_mount' if v == 0 \n",
    "else 'your_side_control' if v == 1\n",
    "else 'your_closed_guard' if v == 2\n",
    "else 'your_back_control' if v == 3\n",
    "else 'opponent_mount_or_sc' if v == 4\n",
    "else 'opponent_closed_guard' if v == 5\n",
    "else 'opponent_back_control' if v == 6\n",
    "else 'OTHER' if v == 7\n",
    "\n",
    "emission_probability = {\n",
    "        'ymt' : {'ymount': 0.600, 'ysc': 0.050, 'ycg': 0.010, 'ybc': 0.050, 'osc_mount': 0.001, 'ocg': 0.250, 'obc': 0.001, 'other': 0.038},\n",
    "        'ysc' : {'ymount': 0.100, 'ysc': 0.800, 'ycg': 0.010, 'ybc': 0.010, 'osc_mount': 0.001, 'ocg': 0.050, 'obc': 0.001, 'other': 0.028},\n",
    "        'ycg' : {'ymount': 0.010, 'ysc': 0.050, 'ycg': 0.600, 'ybc': 0.010, 'osc_mount': 0.250, 'ocg': 0.001, 'obc': 0.001, 'other': 0.078},\n",
    "        'ybc' : {'ymount': 0.050, 'ysc': 0.010, 'ycg': 0.050, 'ybc': 0.700, 'osc_mount': 0.001, 'ocg': 0.010, 'obc': 0.101, 'other': 0.078},\n",
    "        'omt' : {'ymount': 0.001, 'ysc': 0.050, 'ycg': 0.210, 'ybc': 0.050, 'osc_mount': 0.600, 'ocg': 0.050, 'obc': 0.001, 'other': 0.038},\n",
    "        'ocg' : {'ymount': 0.300, 'ysc': 0.050, 'ycg': 0.010, 'ybc': 0.010, 'osc_mount': 0.001, 'ocg': 0.500, 'obc': 0.001, 'other': 0.028},\n",
    "        'obc' : {'ymount': 0.010, 'ysc': 0.050, 'ycg': 0.001, 'ybc': 0.110, 'osc_mount': 0.050, 'ocg': 0.001, 'obc': 0.700, 'other': 0.078},\n",
    "        'oth' : {'ymount': 0.050, 'ysc': 0.010, 'ycg': 0.050, 'ybc': 0.078, 'osc_mount': 0.001, 'ocg': 0.010, 'obc': 0.001, 'other': 0.800}\n",
    "     }\n",
    "\"\"\"\n",
    "\n",
    "emissionprob = np.array([\n",
    "                        [0.600, 0.050, 0.010, 0.050, 0.001, 0.250, 0.001, 0.038], \n",
    "                        [0.100, 0.800, 0.010, 0.010, 0.001, 0.050, 0.001, 0.028], \n",
    "                        [0.010, 0.050, 0.600, 0.010, 0.250, 0.001, 0.001, 0.078], \n",
    "                        [0.050, 0.010, 0.050, 0.700, 0.001, 0.010, 0.101, 0.078],\n",
    "                        [0.001, 0.050, 0.210, 0.050, 0.600, 0.050, 0.001, 0.038],\n",
    "                        [0.300, 0.050, 0.010, 0.010, 0.001, 0.500, 0.001, 0.028],\n",
    "                        [0.010, 0.050, 0.001, 0.110, 0.050, 0.001, 0.700, 0.078],\n",
    "                        [0.050, 0.010, 0.050, 0.078, 0.001, 0.010, 0.001, 0.800],\n",
    "                        ])\n"
   ]
  },
  {
   "cell_type": "code",
   "execution_count": 55,
   "metadata": {
    "collapsed": false
   },
   "outputs": [],
   "source": [
    "# Hidden Markov Model with multinomial (discrete) emissions\n",
    "model = hmm.MultinomialHMM(n_components=n_components,\n",
    "                           n_iter=10,\n",
    "                           verbose=False)\n",
    "\n",
    "model.startprob_ = startprob\n",
    "model.transmat_ = transmat\n",
    "model.emissionprob_ = emissionprob\n",
    "# model.n_features = 8"
   ]
  },
  {
   "cell_type": "code",
   "execution_count": 56,
   "metadata": {
    "collapsed": false
   },
   "outputs": [
    {
     "name": "stdout",
     "output_type": "stream",
     "text": [
      "[[7]\n",
      " [7]\n",
      " [7]\n",
      " [7]\n",
      " [5]] [7 7 7 7 7]\n",
      "==========\n",
      "[[7]\n",
      " [7]\n",
      " [0]\n",
      " [5]\n",
      " [0]\n",
      " [5]\n",
      " [5]\n",
      " [5]\n",
      " [0]\n",
      " [5]\n",
      " [5]\n",
      " [5]\n",
      " [7]\n",
      " [5]\n",
      " [5]\n",
      " [7]\n",
      " [5]\n",
      " [0]\n",
      " [6]\n",
      " [4]\n",
      " [2]\n",
      " [2]\n",
      " [2]\n",
      " [2]\n",
      " [2]\n",
      " [2]\n",
      " [2]\n",
      " [2]\n",
      " [4]\n",
      " [2]\n",
      " [2]\n",
      " [2]\n",
      " [2]\n",
      " [2]\n",
      " [2]\n",
      " [4]\n",
      " [4]\n",
      " [4]\n",
      " [4]\n",
      " [4]\n",
      " [4]]\n"
     ]
    }
   ],
   "source": [
    "# observations = np.array([1, 1, 2, 2, 1, 0, 1, 2, 2, 0])\n",
    "observations = np.array(pre_smooth)\n",
    "observations2 = np.array(pre_smooth2)\n",
    "observations3 = np.array(pre_smooth3)\n",
    "observations4 = np.array(pre_smooth4)\n",
    "a,b = model.sample(5)\n",
    "print a,b\n",
    "print '=========='\n",
    "\n",
    "n_samples = len(observations)\n",
    "data = observations.reshape((n_samples, -1))\n",
    "print data\n",
    "\n",
    "n_samples2 = len(observations2)\n",
    "data2 = observations2.reshape((n_samples2, -1))\n",
    "\n",
    "n_samples3 = len(observations3)\n",
    "data3 = observations3.reshape((n_samples3, -1))\n",
    "\n",
    "n_samples4 = len(observations4)\n",
    "data4 = observations4.reshape((n_samples4, -1))"
   ]
  },
  {
   "cell_type": "code",
   "execution_count": 57,
   "metadata": {
    "collapsed": false
   },
   "outputs": [
    {
     "data": {
      "text/plain": [
       "\"correct sequence\\nyour_mount' if v == 0 \\nelse 'your_side_control' if v == 1\\nelse 'your_closed_guard' if v == 2\\nelse 'your_back_control' if v == 3\\nelse 'opponent_mount_or_sc' if v == 4\\nelse 'opponent_closed_guard' if v == 5\\nelse 'opponent_back_control' if v == 6\\nelse 'OTHER' if v == 7\\n\\n\\n[3, 0, 1, 2, 5, 4, 6]\\n\\n\""
      ]
     },
     "execution_count": 57,
     "metadata": {},
     "output_type": "execute_result"
    }
   ],
   "source": [
    "# decode(X, lengths=None, algorithm=None)[source]\n",
    "# Find most likely state sequence corresponding to X.\n",
    "# Will work best for organic tests\n",
    "\n",
    "\"\"\"correct sequence\n",
    "your_mount' if v == 0 \n",
    "else 'your_side_control' if v == 1\n",
    "else 'your_closed_guard' if v == 2\n",
    "else 'your_back_control' if v == 3\n",
    "else 'opponent_mount_or_sc' if v == 4\n",
    "else 'opponent_closed_guard' if v == 5\n",
    "else 'opponent_back_control' if v == 6\n",
    "else 'OTHER' if v == 7\n",
    "\n",
    "\n",
    "[3, 0, 1, 2, 5, 4, 6]\n",
    "\n",
    "\"\"\""
   ]
  },
  {
   "cell_type": "code",
   "execution_count": 53,
   "metadata": {
    "collapsed": false
   },
   "outputs": [
    {
     "name": "stdout",
     "output_type": "stream",
     "text": [
      "TEST 1\n",
      "pre smooth: [7 7 0 5 0 5 5 5 0 5 5 5 7 5 5 7 5 0 6 4 2 2 2 2 2 2 2 2 4 2 2 2 2 2 2 4 4\n",
      " 4 4 4 4]\n",
      "result accuracy -56.3781316061%\n",
      "final result: [7 7 0 5 5 5 5 5 5 5 5 5 5 5 5 5 5 0 2 2 2 2 2 2 2 2 2 2 2 2 2 2 2 2 2 4 4\n",
      " 4 4 4 4]\n",
      "=====================\n",
      "pre smooth words: ['OTHER', 'OTHER', 'your_mount', 'opponent_closed_guard', 'your_mount', 'opponent_closed_guard', 'opponent_closed_guard', 'opponent_closed_guard', 'your_mount', 'opponent_closed_guard', 'opponent_closed_guard', 'opponent_closed_guard', 'OTHER', 'opponent_closed_guard', 'opponent_closed_guard', 'OTHER', 'opponent_closed_guard', 'your_mount', 'opponent_back_control', 'opponent_mount_or_sc', 'your_closed_guard', 'your_closed_guard', 'your_closed_guard', 'your_closed_guard', 'your_closed_guard', 'your_closed_guard', 'your_closed_guard', 'your_closed_guard', 'opponent_mount_or_sc', 'your_closed_guard', 'your_closed_guard', 'your_closed_guard', 'your_closed_guard', 'your_closed_guard', 'your_closed_guard', 'opponent_mount_or_sc', 'opponent_mount_or_sc', 'opponent_mount_or_sc', 'opponent_mount_or_sc', 'opponent_mount_or_sc', 'opponent_mount_or_sc']\n",
      "=====================\n",
      "result words: ['OTHER', 'OTHER', 'your_mount', 'opponent_closed_guard', 'opponent_closed_guard', 'opponent_closed_guard', 'opponent_closed_guard', 'opponent_closed_guard', 'opponent_closed_guard', 'opponent_closed_guard', 'opponent_closed_guard', 'opponent_closed_guard', 'opponent_closed_guard', 'opponent_closed_guard', 'opponent_closed_guard', 'opponent_closed_guard', 'opponent_closed_guard', 'your_mount', 'your_closed_guard', 'your_closed_guard', 'your_closed_guard', 'your_closed_guard', 'your_closed_guard', 'your_closed_guard', 'your_closed_guard', 'your_closed_guard', 'your_closed_guard', 'your_closed_guard', 'your_closed_guard', 'your_closed_guard', 'your_closed_guard', 'your_closed_guard', 'your_closed_guard', 'your_closed_guard', 'your_closed_guard', 'opponent_mount_or_sc', 'opponent_mount_or_sc', 'opponent_mount_or_sc', 'opponent_mount_or_sc', 'opponent_mount_or_sc', 'opponent_mount_or_sc']\n",
      "******************\n",
      "TEST2\n",
      "pre smooth: [7 7 3 6 3 6 3 2 3 7 0 0 0 5 0 0 0 1 1 0 1 6 1 1 1 1 0 7 4 4 4 4 4 2 4 4 2\n",
      " 3 2 2 2 4 2 5 0 0 5 5 5 5 0 5 5 5 2 4 4 4 4 4 4 4 4 4 4 4 4 4 6 6 4 6 6 6\n",
      " 6 6 6 6 6 1 5]\n",
      "result accuracy -135.434312289%\n",
      "final result: [7 7 3 3 3 3 3 3 3 3 0 0 0 0 0 0 0 1 1 1 1 1 1 1 1 1 0 2 4 4 4 4 4 4 4 4 3\n",
      " 3 2 2 2 2 2 0 0 0 5 5 5 5 5 5 5 5 2 4 4 4 4 4 4 4 4 4 4 4 4 4 6 6 6 6 6 6\n",
      " 6 6 6 6 6 1 1]\n",
      "=====================\n",
      "pre smooth words: ['OTHER', 'OTHER', 'your_back_control', 'opponent_back_control', 'your_back_control', 'opponent_back_control', 'your_back_control', 'your_closed_guard', 'your_back_control', 'OTHER', 'your_mount', 'your_mount', 'your_mount', 'opponent_closed_guard', 'your_mount', 'your_mount', 'your_mount', 'your_side_control', 'your_side_control', 'your_mount', 'your_side_control', 'opponent_back_control', 'your_side_control', 'your_side_control', 'your_side_control', 'your_side_control', 'your_mount', 'OTHER', 'opponent_mount_or_sc', 'opponent_mount_or_sc', 'opponent_mount_or_sc', 'opponent_mount_or_sc', 'opponent_mount_or_sc', 'your_closed_guard', 'opponent_mount_or_sc', 'opponent_mount_or_sc', 'your_closed_guard', 'your_back_control', 'your_closed_guard', 'your_closed_guard', 'your_closed_guard', 'opponent_mount_or_sc', 'your_closed_guard', 'opponent_closed_guard', 'your_mount', 'your_mount', 'opponent_closed_guard', 'opponent_closed_guard', 'opponent_closed_guard', 'opponent_closed_guard', 'your_mount', 'opponent_closed_guard', 'opponent_closed_guard', 'opponent_closed_guard', 'your_closed_guard', 'opponent_mount_or_sc', 'opponent_mount_or_sc', 'opponent_mount_or_sc', 'opponent_mount_or_sc', 'opponent_mount_or_sc', 'opponent_mount_or_sc', 'opponent_mount_or_sc', 'opponent_mount_or_sc', 'opponent_mount_or_sc', 'opponent_mount_or_sc', 'opponent_mount_or_sc', 'opponent_mount_or_sc', 'opponent_mount_or_sc', 'opponent_back_control', 'opponent_back_control', 'opponent_mount_or_sc', 'opponent_back_control', 'opponent_back_control', 'opponent_back_control', 'opponent_back_control', 'opponent_back_control', 'opponent_back_control', 'opponent_back_control', 'opponent_back_control', 'your_side_control', 'opponent_closed_guard']\n",
      "=====================\n",
      "result words: ['OTHER', 'OTHER', 'your_back_control', 'your_back_control', 'your_back_control', 'your_back_control', 'your_back_control', 'your_back_control', 'your_back_control', 'your_back_control', 'your_mount', 'your_mount', 'your_mount', 'your_mount', 'your_mount', 'your_mount', 'your_mount', 'your_side_control', 'your_side_control', 'your_side_control', 'your_side_control', 'your_side_control', 'your_side_control', 'your_side_control', 'your_side_control', 'your_side_control', 'your_mount', 'your_closed_guard', 'opponent_mount_or_sc', 'opponent_mount_or_sc', 'opponent_mount_or_sc', 'opponent_mount_or_sc', 'opponent_mount_or_sc', 'opponent_mount_or_sc', 'opponent_mount_or_sc', 'opponent_mount_or_sc', 'your_back_control', 'your_back_control', 'your_closed_guard', 'your_closed_guard', 'your_closed_guard', 'your_closed_guard', 'your_closed_guard', 'your_mount', 'your_mount', 'your_mount', 'opponent_closed_guard', 'opponent_closed_guard', 'opponent_closed_guard', 'opponent_closed_guard', 'opponent_closed_guard', 'opponent_closed_guard', 'opponent_closed_guard', 'opponent_closed_guard', 'your_closed_guard', 'opponent_mount_or_sc', 'opponent_mount_or_sc', 'opponent_mount_or_sc', 'opponent_mount_or_sc', 'opponent_mount_or_sc', 'opponent_mount_or_sc', 'opponent_mount_or_sc', 'opponent_mount_or_sc', 'opponent_mount_or_sc', 'opponent_mount_or_sc', 'opponent_mount_or_sc', 'opponent_mount_or_sc', 'opponent_mount_or_sc', 'opponent_back_control', 'opponent_back_control', 'opponent_back_control', 'opponent_back_control', 'opponent_back_control', 'opponent_back_control', 'opponent_back_control', 'opponent_back_control', 'opponent_back_control', 'opponent_back_control', 'opponent_back_control', 'your_side_control', 'your_side_control']\n",
      "******************\n",
      "TEST3\n",
      "pre smooth: [7 7 7 1 6 6 1 1 1 1 3 3 4 1 0 5 0 0 0 0 0 1 1 5 1 1 1 7 4 2 2 2 2 2 2 2 2\n",
      " 2 2 2 7 0 0 5 0 5 5 5 5 5 5 5 5 7 2 4 4 4 4 4 2 2 4 4 2 4 4 4 4 4 4 3 6 4\n",
      " 4 6 3 4 3 6 6 6 6 6 6 6 3 7 0 7]\n",
      "result accuracy -148.952015896%\n",
      "final result: [7 7 7 6 6 6 1 1 1 1 3 3 2 1 0 0 0 0 0 0 0 1 1 1 1 1 1 7 2 2 2 2 2 2 2 2 2\n",
      " 2 2 2 7 0 0 5 5 5 5 5 5 5 5 5 5 7 2 4 4 4 4 4 2 2 4 4 4 4 4 4 4 4 4 3 6 6\n",
      " 6 6 6 6 6 6 6 6 6 6 6 6 7 7 7 7]\n",
      "=====================\n",
      "pre smooth words: ['OTHER', 'OTHER', 'OTHER', 'your_side_control', 'opponent_back_control', 'opponent_back_control', 'your_side_control', 'your_side_control', 'your_side_control', 'your_side_control', 'your_back_control', 'your_back_control', 'opponent_mount_or_sc', 'your_side_control', 'your_mount', 'opponent_closed_guard', 'your_mount', 'your_mount', 'your_mount', 'your_mount', 'your_mount', 'your_side_control', 'your_side_control', 'opponent_closed_guard', 'your_side_control', 'your_side_control', 'your_side_control', 'OTHER', 'opponent_mount_or_sc', 'your_closed_guard', 'your_closed_guard', 'your_closed_guard', 'your_closed_guard', 'your_closed_guard', 'your_closed_guard', 'your_closed_guard', 'your_closed_guard', 'your_closed_guard', 'your_closed_guard', 'your_closed_guard', 'OTHER', 'your_mount', 'your_mount', 'opponent_closed_guard', 'your_mount', 'opponent_closed_guard', 'opponent_closed_guard', 'opponent_closed_guard', 'opponent_closed_guard', 'opponent_closed_guard', 'opponent_closed_guard', 'opponent_closed_guard', 'opponent_closed_guard', 'OTHER', 'your_closed_guard', 'opponent_mount_or_sc', 'opponent_mount_or_sc', 'opponent_mount_or_sc', 'opponent_mount_or_sc', 'opponent_mount_or_sc', 'your_closed_guard', 'your_closed_guard', 'opponent_mount_or_sc', 'opponent_mount_or_sc', 'your_closed_guard', 'opponent_mount_or_sc', 'opponent_mount_or_sc', 'opponent_mount_or_sc', 'opponent_mount_or_sc', 'opponent_mount_or_sc', 'opponent_mount_or_sc', 'your_back_control', 'opponent_back_control', 'opponent_mount_or_sc', 'opponent_mount_or_sc', 'opponent_back_control', 'your_back_control', 'opponent_mount_or_sc', 'your_back_control', 'opponent_back_control', 'opponent_back_control', 'opponent_back_control', 'opponent_back_control', 'opponent_back_control', 'opponent_back_control', 'opponent_back_control', 'your_back_control', 'OTHER', 'your_mount', 'OTHER']\n",
      "=====================\n",
      "result words: ['OTHER', 'OTHER', 'OTHER', 'opponent_back_control', 'opponent_back_control', 'opponent_back_control', 'your_side_control', 'your_side_control', 'your_side_control', 'your_side_control', 'your_back_control', 'your_back_control', 'your_closed_guard', 'your_side_control', 'your_mount', 'your_mount', 'your_mount', 'your_mount', 'your_mount', 'your_mount', 'your_mount', 'your_side_control', 'your_side_control', 'your_side_control', 'your_side_control', 'your_side_control', 'your_side_control', 'OTHER', 'your_closed_guard', 'your_closed_guard', 'your_closed_guard', 'your_closed_guard', 'your_closed_guard', 'your_closed_guard', 'your_closed_guard', 'your_closed_guard', 'your_closed_guard', 'your_closed_guard', 'your_closed_guard', 'your_closed_guard', 'OTHER', 'your_mount', 'your_mount', 'opponent_closed_guard', 'opponent_closed_guard', 'opponent_closed_guard', 'opponent_closed_guard', 'opponent_closed_guard', 'opponent_closed_guard', 'opponent_closed_guard', 'opponent_closed_guard', 'opponent_closed_guard', 'opponent_closed_guard', 'OTHER', 'your_closed_guard', 'opponent_mount_or_sc', 'opponent_mount_or_sc', 'opponent_mount_or_sc', 'opponent_mount_or_sc', 'opponent_mount_or_sc', 'your_closed_guard', 'your_closed_guard', 'opponent_mount_or_sc', 'opponent_mount_or_sc', 'opponent_mount_or_sc', 'opponent_mount_or_sc', 'opponent_mount_or_sc', 'opponent_mount_or_sc', 'opponent_mount_or_sc', 'opponent_mount_or_sc', 'opponent_mount_or_sc', 'your_back_control', 'opponent_back_control', 'opponent_back_control', 'opponent_back_control', 'opponent_back_control', 'opponent_back_control', 'opponent_back_control', 'opponent_back_control', 'opponent_back_control', 'opponent_back_control', 'opponent_back_control', 'opponent_back_control', 'opponent_back_control', 'opponent_back_control', 'opponent_back_control', 'OTHER', 'OTHER', 'OTHER', 'OTHER']\n",
      "******************\n",
      "TEST4\n",
      "pre smooth: [7 7 7 6 6 6 6 6 6 6 3 3 5 0 0 7 5 5 5 5 5 7 7 7 7 5 7 0 0 1 1 1 1 1 1 1 1\n",
      " 1 1 1 0 2 2 2 2 2 7 7 7 2 2 2 2 2 7 2 2 7 7 7 7 2 2 2 0 5 5 5 5 5 5 5 5 5\n",
      " 5 5 5 5 5 5 5 6 4 4 4 4 4 7 7 7 7 7 7 7 7 7 2 4 4 4 4 4 4 4 4 7 4 4 4 4 7\n",
      " 4 4 2 3 6 6 6 6 6 6 6 6 6 6 6 6 6 6 6 6 0 0 7 5]\n",
      "result accuracy -168.887293989%\n",
      "final result: [7 7 7 6 6 6 6 6 6 6 3 3 0 0 0 0 5 5 5 5 5 7 7 7 7 7 7 0 0 1 1 1 1 1 1 1 1\n",
      " 1 1 1 0 2 2 2 2 2 7 7 7 2 2 2 2 2 2 2 2 7 7 7 7 2 2 2 0 5 5 5 5 5 5 5 5 5\n",
      " 5 5 5 5 5 5 5 6 4 4 4 4 4 7 7 7 7 7 7 7 7 7 2 4 4 4 4 4 4 4 4 4 4 4 4 4 4\n",
      " 4 4 3 3 6 6 6 6 6 6 6 6 6 6 6 6 6 6 6 6 0 0 0 0]\n",
      "=====================\n",
      "pre smooth words: ['OTHER', 'OTHER', 'OTHER', 'opponent_back_control', 'opponent_back_control', 'opponent_back_control', 'opponent_back_control', 'opponent_back_control', 'opponent_back_control', 'opponent_back_control', 'your_back_control', 'your_back_control', 'opponent_closed_guard', 'your_mount', 'your_mount', 'OTHER', 'opponent_closed_guard', 'opponent_closed_guard', 'opponent_closed_guard', 'opponent_closed_guard', 'opponent_closed_guard', 'OTHER', 'OTHER', 'OTHER', 'OTHER', 'opponent_closed_guard', 'OTHER', 'your_mount', 'your_mount', 'your_side_control', 'your_side_control', 'your_side_control', 'your_side_control', 'your_side_control', 'your_side_control', 'your_side_control', 'your_side_control', 'your_side_control', 'your_side_control', 'your_side_control', 'your_mount', 'your_closed_guard', 'your_closed_guard', 'your_closed_guard', 'your_closed_guard', 'your_closed_guard', 'OTHER', 'OTHER', 'OTHER', 'your_closed_guard', 'your_closed_guard', 'your_closed_guard', 'your_closed_guard', 'your_closed_guard', 'OTHER', 'your_closed_guard', 'your_closed_guard', 'OTHER', 'OTHER', 'OTHER', 'OTHER', 'your_closed_guard', 'your_closed_guard', 'your_closed_guard', 'your_mount', 'opponent_closed_guard', 'opponent_closed_guard', 'opponent_closed_guard', 'opponent_closed_guard', 'opponent_closed_guard', 'opponent_closed_guard', 'opponent_closed_guard', 'opponent_closed_guard', 'opponent_closed_guard', 'opponent_closed_guard', 'opponent_closed_guard', 'opponent_closed_guard', 'opponent_closed_guard', 'opponent_closed_guard', 'opponent_closed_guard', 'opponent_closed_guard', 'opponent_back_control', 'opponent_mount_or_sc', 'opponent_mount_or_sc', 'opponent_mount_or_sc', 'opponent_mount_or_sc', 'opponent_mount_or_sc', 'OTHER', 'OTHER', 'OTHER', 'OTHER', 'OTHER', 'OTHER', 'OTHER', 'OTHER', 'OTHER', 'your_closed_guard', 'opponent_mount_or_sc', 'opponent_mount_or_sc', 'opponent_mount_or_sc', 'opponent_mount_or_sc', 'opponent_mount_or_sc', 'opponent_mount_or_sc', 'opponent_mount_or_sc', 'opponent_mount_or_sc', 'OTHER', 'opponent_mount_or_sc', 'opponent_mount_or_sc', 'opponent_mount_or_sc', 'opponent_mount_or_sc', 'OTHER', 'opponent_mount_or_sc', 'opponent_mount_or_sc', 'your_closed_guard', 'your_back_control', 'opponent_back_control', 'opponent_back_control', 'opponent_back_control', 'opponent_back_control', 'opponent_back_control', 'opponent_back_control', 'opponent_back_control', 'opponent_back_control', 'opponent_back_control', 'opponent_back_control', 'opponent_back_control', 'opponent_back_control', 'opponent_back_control', 'opponent_back_control', 'opponent_back_control', 'opponent_back_control', 'your_mount', 'your_mount', 'OTHER', 'opponent_closed_guard']\n",
      "=====================\n",
      "result words: ['OTHER', 'OTHER', 'OTHER', 'opponent_back_control', 'opponent_back_control', 'opponent_back_control', 'opponent_back_control', 'opponent_back_control', 'opponent_back_control', 'opponent_back_control', 'your_back_control', 'your_back_control', 'your_mount', 'your_mount', 'your_mount', 'your_mount', 'opponent_closed_guard', 'opponent_closed_guard', 'opponent_closed_guard', 'opponent_closed_guard', 'opponent_closed_guard', 'OTHER', 'OTHER', 'OTHER', 'OTHER', 'OTHER', 'OTHER', 'your_mount', 'your_mount', 'your_side_control', 'your_side_control', 'your_side_control', 'your_side_control', 'your_side_control', 'your_side_control', 'your_side_control', 'your_side_control', 'your_side_control', 'your_side_control', 'your_side_control', 'your_mount', 'your_closed_guard', 'your_closed_guard', 'your_closed_guard', 'your_closed_guard', 'your_closed_guard', 'OTHER', 'OTHER', 'OTHER', 'your_closed_guard', 'your_closed_guard', 'your_closed_guard', 'your_closed_guard', 'your_closed_guard', 'your_closed_guard', 'your_closed_guard', 'your_closed_guard', 'OTHER', 'OTHER', 'OTHER', 'OTHER', 'your_closed_guard', 'your_closed_guard', 'your_closed_guard', 'your_mount', 'opponent_closed_guard', 'opponent_closed_guard', 'opponent_closed_guard', 'opponent_closed_guard', 'opponent_closed_guard', 'opponent_closed_guard', 'opponent_closed_guard', 'opponent_closed_guard', 'opponent_closed_guard', 'opponent_closed_guard', 'opponent_closed_guard', 'opponent_closed_guard', 'opponent_closed_guard', 'opponent_closed_guard', 'opponent_closed_guard', 'opponent_closed_guard', 'opponent_back_control', 'opponent_mount_or_sc', 'opponent_mount_or_sc', 'opponent_mount_or_sc', 'opponent_mount_or_sc', 'opponent_mount_or_sc', 'OTHER', 'OTHER', 'OTHER', 'OTHER', 'OTHER', 'OTHER', 'OTHER', 'OTHER', 'OTHER', 'your_closed_guard', 'opponent_mount_or_sc', 'opponent_mount_or_sc', 'opponent_mount_or_sc', 'opponent_mount_or_sc', 'opponent_mount_or_sc', 'opponent_mount_or_sc', 'opponent_mount_or_sc', 'opponent_mount_or_sc', 'opponent_mount_or_sc', 'opponent_mount_or_sc', 'opponent_mount_or_sc', 'opponent_mount_or_sc', 'opponent_mount_or_sc', 'opponent_mount_or_sc', 'opponent_mount_or_sc', 'opponent_mount_or_sc', 'your_back_control', 'your_back_control', 'opponent_back_control', 'opponent_back_control', 'opponent_back_control', 'opponent_back_control', 'opponent_back_control', 'opponent_back_control', 'opponent_back_control', 'opponent_back_control', 'opponent_back_control', 'opponent_back_control', 'opponent_back_control', 'opponent_back_control', 'opponent_back_control', 'opponent_back_control', 'opponent_back_control', 'opponent_back_control', 'your_mount', 'your_mount', 'your_mount', 'your_mount']\n"
     ]
    }
   ],
   "source": [
    "\n",
    "\n",
    "print 'TEST 1'\n",
    "\n",
    "result = model.decode(data, algorithm='viterbi')\n",
    "print 'pre smooth: {}'.format(pre_smooth)\n",
    "print 'result accuracy {}%'.format(result[0])\n",
    "print 'final result: {}'.format(result[1])\n",
    "\n",
    "result_words = convert_to_words(result[1])\n",
    "print '====================='\n",
    "print 'pre smooth words: {}'.format(pre_smooth_words)\n",
    "print '====================='\n",
    "print 'result words: {}'.format(result_words)\n",
    "\n",
    "print '******************'\n",
    "print 'TEST2'\n",
    "result2 = model.decode(data2, algorithm='viterbi')\n",
    "print 'pre smooth: {}'.format(pre_smooth2)\n",
    "print 'result accuracy {}%'.format(result2[0])\n",
    "print 'final result: {}'.format(result2[1])\n",
    "\n",
    "result_words2 = convert_to_words(result2[1])\n",
    "print '====================='\n",
    "print 'pre smooth words: {}'.format(pre_smooth_words2)\n",
    "print '====================='\n",
    "print 'result words: {}'.format(result_words2)\n",
    "\n",
    "print '******************'\n",
    "print 'TEST3'\n",
    "result3 = model.decode(data3, algorithm='viterbi')\n",
    "print 'pre smooth: {}'.format(pre_smooth3)\n",
    "print 'result accuracy {}%'.format(result3[0])\n",
    "print 'final result: {}'.format(result3[1])\n",
    "\n",
    "result_words3 = convert_to_words(result3[1])\n",
    "print '====================='\n",
    "print 'pre smooth words: {}'.format(pre_smooth_words3)\n",
    "print '====================='\n",
    "print 'result words: {}'.format(result_words3)\n",
    "\n",
    "print '******************'\n",
    "print 'TEST4'\n",
    "result4 = model.decode(data4, algorithm='viterbi')\n",
    "print 'pre smooth: {}'.format(pre_smooth4)\n",
    "print 'result accuracy {}%'.format(result4[0])\n",
    "print 'final result: {}'.format(result4[1])\n",
    "\n",
    "result_words4 = convert_to_words(result4[1])\n",
    "print '====================='\n",
    "print 'pre smooth words: {}'.format(pre_smooth_words4)\n",
    "print '====================='\n",
    "print 'result words: {}'.format(result_words4)"
   ]
  },
  {
   "cell_type": "code",
   "execution_count": null,
   "metadata": {
    "collapsed": true
   },
   "outputs": [],
   "source": []
  },
  {
   "cell_type": "code",
   "execution_count": null,
   "metadata": {
    "collapsed": true
   },
   "outputs": [],
   "source": []
  }
 ],
 "metadata": {
  "kernelspec": {
   "display_name": "Python 2",
   "language": "python",
   "name": "python2"
  },
  "language_info": {
   "codemirror_mode": {
    "name": "ipython",
    "version": 2
   },
   "file_extension": ".py",
   "mimetype": "text/x-python",
   "name": "python",
   "nbconvert_exporter": "python",
   "pygments_lexer": "ipython2",
   "version": "2.7.6"
  }
 },
 "nbformat": 4,
 "nbformat_minor": 0
}
